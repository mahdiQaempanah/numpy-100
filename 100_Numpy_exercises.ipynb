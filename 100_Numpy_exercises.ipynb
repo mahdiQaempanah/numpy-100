{
 "cells": [
  {
   "cell_type": "markdown",
   "id": "52249554",
   "metadata": {},
   "source": [
    "# 100 numpy exercises\n",
    "\n",
    "This is a collection of exercises that have been collected in the numpy mailing list, on stack overflow\n",
    "and in the numpy documentation. The goal of this collection is to offer a quick reference for both old\n",
    "and new users but also to provide a set of exercises for those who teach.\n",
    "\n",
    "\n",
    "If you find an error or think you've a better way to solve some of them, feel\n",
    "free to open an issue at <https://github.com/rougier/numpy-100>."
   ]
  },
  {
   "cell_type": "markdown",
   "id": "9f0e56c3",
   "metadata": {},
   "source": [
    "File automatically generated. See the documentation to update questions/answers/hints programmatically."
   ]
  },
  {
   "cell_type": "markdown",
   "id": "04b078a1",
   "metadata": {},
   "source": [
    "Run the `initialize.py` module, then for each question you can query the\n",
    "answer or an hint with `hint(n)` or `answer(n)` for `n` question number."
   ]
  },
  {
   "cell_type": "code",
   "execution_count": 1,
   "id": "63ebbf77",
   "metadata": {},
   "outputs": [],
   "source": [
    "%run initialise.py"
   ]
  },
  {
   "cell_type": "markdown",
   "id": "e1672806",
   "metadata": {},
   "source": [
    "#### 1. Import the numpy package under the name `np` (★☆☆)"
   ]
  },
  {
   "cell_type": "code",
   "execution_count": 2,
   "id": "c39a5917",
   "metadata": {},
   "outputs": [],
   "source": [
    "import numpy as np "
   ]
  },
  {
   "cell_type": "markdown",
   "id": "1d2a0271",
   "metadata": {},
   "source": [
    "#### 2. Print the numpy version and the configuration (★☆☆)"
   ]
  },
  {
   "cell_type": "code",
   "execution_count": 3,
   "id": "d4160594",
   "metadata": {},
   "outputs": [
    {
     "name": "stdout",
     "output_type": "stream",
     "text": [
      "{\n",
      "  \"Compilers\": {\n",
      "    \"c\": {\n",
      "      \"name\": \"gcc\",\n",
      "      \"linker\": \"ld.bfd\",\n",
      "      \"version\": \"14.2.1\",\n",
      "      \"commands\": \"cc\"\n",
      "    },\n",
      "    \"cython\": {\n",
      "      \"name\": \"cython\",\n",
      "      \"linker\": \"cython\",\n",
      "      \"version\": \"3.1.2\",\n",
      "      \"commands\": \"cython\"\n",
      "    },\n",
      "    \"c++\": {\n",
      "      \"name\": \"gcc\",\n",
      "      \"linker\": \"ld.bfd\",\n",
      "      \"version\": \"14.2.1\",\n",
      "      \"commands\": \"c++\"\n",
      "    }\n",
      "  },\n",
      "  \"Machine Information\": {\n",
      "    \"host\": {\n",
      "      \"cpu\": \"x86_64\",\n",
      "      \"family\": \"x86_64\",\n",
      "      \"endian\": \"little\",\n",
      "      \"system\": \"linux\"\n",
      "    },\n",
      "    \"build\": {\n",
      "      \"cpu\": \"x86_64\",\n",
      "      \"family\": \"x86_64\",\n",
      "      \"endian\": \"little\",\n",
      "      \"system\": \"linux\"\n",
      "    }\n",
      "  },\n",
      "  \"Build Dependencies\": {\n",
      "    \"blas\": {\n",
      "      \"name\": \"scipy-openblas\",\n",
      "      \"found\": true,\n",
      "      \"version\": \"0.3.29\",\n",
      "      \"detection method\": \"pkgconfig\",\n",
      "      \"include directory\": \"/opt/_internal/cpython-3.13.3/lib/python3.13/site-packages/scipy_openblas64/include\",\n",
      "      \"lib directory\": \"/opt/_internal/cpython-3.13.3/lib/python3.13/site-packages/scipy_openblas64/lib\",\n",
      "      \"openblas configuration\": \"OpenBLAS 0.3.29  USE64BITINT DYNAMIC_ARCH NO_AFFINITY Haswell MAX_THREADS=64\",\n",
      "      \"pc file directory\": \"/project/.openblas\"\n",
      "    },\n",
      "    \"lapack\": {\n",
      "      \"name\": \"scipy-openblas\",\n",
      "      \"found\": true,\n",
      "      \"version\": \"0.3.29\",\n",
      "      \"detection method\": \"pkgconfig\",\n",
      "      \"include directory\": \"/opt/_internal/cpython-3.13.3/lib/python3.13/site-packages/scipy_openblas64/include\",\n",
      "      \"lib directory\": \"/opt/_internal/cpython-3.13.3/lib/python3.13/site-packages/scipy_openblas64/lib\",\n",
      "      \"openblas configuration\": \"OpenBLAS 0.3.29  USE64BITINT DYNAMIC_ARCH NO_AFFINITY Haswell MAX_THREADS=64\",\n",
      "      \"pc file directory\": \"/project/.openblas\"\n",
      "    }\n",
      "  },\n",
      "  \"Python Information\": {\n",
      "    \"path\": \"/tmp/build-env-pmc205eo/bin/python\",\n",
      "    \"version\": \"3.13\"\n",
      "  },\n",
      "  \"SIMD Extensions\": {\n",
      "    \"baseline\": [\n",
      "      \"SSE\",\n",
      "      \"SSE2\",\n",
      "      \"SSE3\"\n",
      "    ],\n",
      "    \"found\": [\n",
      "      \"SSSE3\",\n",
      "      \"SSE41\",\n",
      "      \"POPCNT\",\n",
      "      \"SSE42\",\n",
      "      \"AVX\",\n",
      "      \"F16C\",\n",
      "      \"FMA3\",\n",
      "      \"AVX2\"\n",
      "    ],\n",
      "    \"not found\": [\n",
      "      \"AVX512F\",\n",
      "      \"AVX512CD\",\n",
      "      \"AVX512_KNL\",\n",
      "      \"AVX512_KNM\",\n",
      "      \"AVX512_SKX\",\n",
      "      \"AVX512_CLX\",\n",
      "      \"AVX512_CNL\",\n",
      "      \"AVX512_ICL\",\n",
      "      \"AVX512_SPR\"\n",
      "    ]\n",
      "  }\n",
      "}\n"
     ]
    },
    {
     "name": "stderr",
     "output_type": "stream",
     "text": [
      "/home/tab/Desktop/Code/Repositories/Me/numpy-100/.venv/lib/python3.13/site-packages/numpy/__config__.py:155: UserWarning: Install `pyyaml` for better output\n",
      "  warnings.warn(\"Install `pyyaml` for better output\", stacklevel=1)\n"
     ]
    }
   ],
   "source": [
    "np.show_config()"
   ]
  },
  {
   "cell_type": "markdown",
   "id": "4490d971",
   "metadata": {},
   "source": [
    "#### 3. Create a null vector of size 10 (★☆☆)"
   ]
  },
  {
   "cell_type": "code",
   "execution_count": 38,
   "id": "9b383fcc",
   "metadata": {},
   "outputs": [
    {
     "name": "stdout",
     "output_type": "stream",
     "text": [
      "[0. 0. 0. 0. 0. 0. 0. 0. 0. 0.]\n"
     ]
    }
   ],
   "source": [
    "arr3 = np.zeros(10)\n",
    "print(arr3)"
   ]
  },
  {
   "cell_type": "markdown",
   "id": "4a217c03",
   "metadata": {},
   "source": [
    "#### 4. How to find the memory size of any array (★☆☆)"
   ]
  },
  {
   "cell_type": "code",
   "execution_count": 40,
   "id": "7f7c6497",
   "metadata": {},
   "outputs": [
    {
     "data": {
      "text/plain": [
       "80"
      ]
     },
     "execution_count": 40,
     "metadata": {},
     "output_type": "execute_result"
    }
   ],
   "source": [
    "arr4 = arr3.copy()\n",
    "arr4.nbytes"
   ]
  },
  {
   "cell_type": "markdown",
   "id": "4a412447",
   "metadata": {},
   "source": [
    "#### 5. How to get the documentation of the numpy add function from the command line? (★☆☆)"
   ]
  },
  {
   "cell_type": "code",
   "execution_count": 18,
   "id": "9b19b55d",
   "metadata": {},
   "outputs": [
    {
     "name": "stdout",
     "output_type": "stream",
     "text": [
      "     *** Found in numpy ***\n",
      "add(x1, x2, /, out=None, *, where=True, casting='same_kind', order='K', dtype=None, subok=True[, signature])\n",
      "\n",
      "Add arguments element-wise.\n",
      "\n",
      "Parameters\n",
      "----------\n",
      "x1, x2 : array_like\n",
      "    The arrays to be added.\n",
      "    If ``x1.shape != x2.shape``, they must be broadcastable to a common\n",
      "    shape (which becomes the shape of the output).\n",
      "out : ndarray, None, or tuple of ndarray and None, optional\n",
      "    A location into which the result is stored. If provided, it must have\n",
      "    a shape that the inputs broadcast to. If not provided or None,\n",
      "    a freshly-allocated array is returned. A tuple (possible only as a\n",
      "    keyword argument) must have length equal to the number of outputs.\n",
      "where : array_like, optional\n",
      "    This condition is broadcast over the input. At locations where the\n",
      "    condition is True, the `out` array will be set to the ufunc result.\n",
      "    Elsewhere, the `out` array will retain its original value.\n",
      "    Note that if an uninitialized `out` array is created via the default\n",
      "    ``out=None``, locations within it where the condition is False will\n",
      "    remain uninitialized.\n",
      "**kwargs\n",
      "    For other keyword-only arguments, see the\n",
      "    :ref:`ufunc docs <ufuncs.kwargs>`.\n",
      "\n",
      "Returns\n",
      "-------\n",
      "add : ndarray or scalar\n",
      "    The sum of `x1` and `x2`, element-wise.\n",
      "    This is a scalar if both `x1` and `x2` are scalars.\n",
      "\n",
      "Notes\n",
      "-----\n",
      "Equivalent to `x1` + `x2` in terms of array broadcasting.\n",
      "\n",
      "Examples\n",
      "--------\n",
      ">>> import numpy as np\n",
      ">>> np.add(1.0, 4.0)\n",
      "5.0\n",
      ">>> x1 = np.arange(9.0).reshape((3, 3))\n",
      ">>> x2 = np.arange(3.0)\n",
      ">>> np.add(x1, x2)\n",
      "array([[  0.,   2.,   4.],\n",
      "       [  3.,   5.,   7.],\n",
      "       [  6.,   8.,  10.]])\n",
      "\n",
      "The ``+`` operator can be used as a shorthand for ``np.add`` on ndarrays.\n",
      "\n",
      ">>> x1 = np.arange(9.0).reshape((3, 3))\n",
      ">>> x2 = np.arange(3.0)\n",
      ">>> x1 + x2\n",
      "array([[ 0.,  2.,  4.],\n",
      "       [ 3.,  5.,  7.],\n",
      "       [ 6.,  8., 10.]])\n",
      "----------------------------------------------------------------------------\n",
      "\n",
      "     *** Repeat reference found in numpy._core *** \n",
      "\n",
      "     *** Repeat reference found in numpy._core._multiarray_umath *** \n",
      "\n",
      "     *** Repeat reference found in numpy._core.multiarray *** \n",
      "\n",
      "     *** Repeat reference found in numpy._core.umath *** \n",
      "\n",
      "     *** Repeat reference found in numpy._core.numeric *** \n",
      "\n",
      "     *** Repeat reference found in numpy.linalg._linalg *** \n",
      "\n",
      "     *** Repeat reference found in numpy.lib._function_base_impl *** \n",
      "     *** Found in operator ***\n",
      "Same as a + b.\n",
      "----------------------------------------------------------------------------\n",
      "\n",
      "     *** Total of 9 references found. ***\n"
     ]
    }
   ],
   "source": [
    "np.info(\"add\")"
   ]
  },
  {
   "cell_type": "markdown",
   "id": "8e890e32",
   "metadata": {},
   "source": [
    "#### 6. Create a null vector of size 10 but the fifth value which is 1 (★☆☆)"
   ]
  },
  {
   "cell_type": "code",
   "execution_count": 41,
   "id": "032ba316",
   "metadata": {},
   "outputs": [
    {
     "name": "stdout",
     "output_type": "stream",
     "text": [
      "[0. 0. 0. 0. 1. 0. 0. 0. 0. 0.]\n"
     ]
    }
   ],
   "source": [
    "arr6 = np.zeros(10)\n",
    "arr6[4] = 1\n",
    "print(arr6)"
   ]
  },
  {
   "cell_type": "markdown",
   "id": "36562b7f",
   "metadata": {},
   "source": [
    "#### 7. Create a vector with values ranging from 10 to 49 (★☆☆)"
   ]
  },
  {
   "cell_type": "code",
   "execution_count": 42,
   "id": "2f1ae242",
   "metadata": {},
   "outputs": [
    {
     "name": "stdout",
     "output_type": "stream",
     "text": [
      "[10 11 12 13 14 15 16 17 18 19 20 21 22 23 24 25 26 27 28 29 30 31 32 33\n",
      " 34 35 36 37 38 39 40 41 42 43 44 45 46 47 48 49]\n"
     ]
    }
   ],
   "source": [
    "arr7 = np.arange(40) + 10\n",
    "print(arr7)"
   ]
  },
  {
   "cell_type": "markdown",
   "id": "d7d0e7ff",
   "metadata": {},
   "source": [
    "#### 8. Reverse a vector (first element becomes last) (★☆☆)"
   ]
  },
  {
   "cell_type": "code",
   "execution_count": 43,
   "id": "5a07c5c1",
   "metadata": {},
   "outputs": [
    {
     "name": "stdout",
     "output_type": "stream",
     "text": [
      "[49 48 47 46 45 44 43 42 41 40 39 38 37 36 35 34 33 32 31 30 29 28 27 26\n",
      " 25 24 23 22 21 20 19 18 17 16 15 14 13 12 11 10]\n"
     ]
    }
   ],
   "source": [
    "arr8 = arr7[::-1]\n",
    "print(arr8)"
   ]
  },
  {
   "cell_type": "markdown",
   "id": "1fb509ab",
   "metadata": {},
   "source": [
    "#### 9. Create a 3x3 matrix with values ranging from 0 to 8 (★☆☆)"
   ]
  },
  {
   "cell_type": "code",
   "execution_count": 46,
   "id": "b4702eb8",
   "metadata": {},
   "outputs": [
    {
     "name": "stdout",
     "output_type": "stream",
     "text": [
      "[[0 1 2]\n",
      " [3 4 5]\n",
      " [6 7 8]]\n"
     ]
    }
   ],
   "source": [
    "arr9 = np.arange(9).reshape((3,3))\n",
    "print(arr9)"
   ]
  },
  {
   "cell_type": "markdown",
   "id": "0d0120c4",
   "metadata": {},
   "source": [
    "#### 10. Find indices of non-zero elements from [1,2,0,0,4,0] (★☆☆)"
   ]
  },
  {
   "cell_type": "code",
   "execution_count": 48,
   "id": "ead69303",
   "metadata": {},
   "outputs": [
    {
     "data": {
      "text/plain": [
       "(array([0, 1, 4]),)"
      ]
     },
     "execution_count": 48,
     "metadata": {},
     "output_type": "execute_result"
    }
   ],
   "source": [
    "arr10 = np.array([1,2,0,0,4,0])\n",
    "np.where(arr10)"
   ]
  },
  {
   "cell_type": "markdown",
   "id": "c001c117",
   "metadata": {},
   "source": [
    "#### 11. Create a 3x3 identity matrix (★☆☆)"
   ]
  },
  {
   "cell_type": "code",
   "execution_count": 51,
   "id": "e7f9417c",
   "metadata": {},
   "outputs": [
    {
     "name": "stdout",
     "output_type": "stream",
     "text": [
      "[[1. 0. 0.]\n",
      " [0. 1. 0.]\n",
      " [0. 0. 1.]]\n"
     ]
    }
   ],
   "source": [
    "arr11 = np.identity(3)\n",
    "print(arr11)"
   ]
  },
  {
   "cell_type": "markdown",
   "id": "5f75e7a8",
   "metadata": {},
   "source": [
    "#### 12. Create a 3x3x3 array with random values (★☆☆)"
   ]
  },
  {
   "cell_type": "code",
   "execution_count": 56,
   "id": "ec3c59bb",
   "metadata": {},
   "outputs": [
    {
     "name": "stdout",
     "output_type": "stream",
     "text": [
      "[[[0.8248417  0.95503307 0.91332693]\n",
      "  [0.39504361 0.48060106 0.69759413]\n",
      "  [0.59917241 0.41721063 0.21642846]]\n",
      "\n",
      " [[0.27824173 0.71134612 0.19072446]\n",
      "  [0.35891626 0.21354738 0.69502002]\n",
      "  [0.75153088 0.65654966 0.61299745]]\n",
      "\n",
      " [[0.42577228 0.13246544 0.69367693]\n",
      "  [0.24466229 0.01123154 0.67590825]\n",
      "  [0.03748934 0.49888734 0.92635944]]]\n"
     ]
    }
   ],
   "source": [
    "arr12 = np.random.rand(3,3,3)\n",
    "print(arr12)"
   ]
  },
  {
   "cell_type": "markdown",
   "id": "7f012f49",
   "metadata": {},
   "source": [
    "#### 13. Create a 10x10 array with random values and find the minimum and maximum values (★☆☆)"
   ]
  },
  {
   "cell_type": "code",
   "execution_count": 60,
   "id": "8247cae0",
   "metadata": {},
   "outputs": [
    {
     "name": "stdout",
     "output_type": "stream",
     "text": [
      "0.014486713559349051\n",
      "0.9941920390595335\n"
     ]
    }
   ],
   "source": [
    "arr13 = np.random.random((10, 10))\n",
    "print(arr13.flatten().min())\n",
    "print(arr13.flatten().max())"
   ]
  },
  {
   "cell_type": "markdown",
   "id": "7d976fd0",
   "metadata": {},
   "source": [
    "#### 14. Create a random vector of size 30 and find the mean value (★☆☆)"
   ]
  },
  {
   "cell_type": "code",
   "execution_count": 61,
   "id": "1d5c77fd",
   "metadata": {},
   "outputs": [
    {
     "name": "stdout",
     "output_type": "stream",
     "text": [
      "0.5170811943957199\n"
     ]
    }
   ],
   "source": [
    "arr14 = np.random.random(30)\n",
    "print(arr14.mean())"
   ]
  },
  {
   "cell_type": "markdown",
   "id": "c5266946",
   "metadata": {},
   "source": [
    "#### 15. Create a 2d array with 1 on the border and 0 inside (★☆☆)"
   ]
  },
  {
   "cell_type": "code",
   "execution_count": 80,
   "id": "140eff80",
   "metadata": {},
   "outputs": [
    {
     "name": "stdout",
     "output_type": "stream",
     "text": [
      "[[1. 1. 1. 1. 1.]\n",
      " [1. 0. 0. 0. 1.]\n",
      " [1. 0. 0. 0. 1.]\n",
      " [1. 0. 0. 0. 1.]\n",
      " [1. 1. 1. 1. 1.]]\n"
     ]
    }
   ],
   "source": [
    "n = 5\n",
    "arr15 = np.zeros((n,n))\n",
    "arr15[0,:] = 1\n",
    "arr15[n-1,:] = 1\n",
    "arr15[:,0] = 1\n",
    "arr15[:,n-1] = 1\n",
    "print(arr15)"
   ]
  },
  {
   "cell_type": "markdown",
   "id": "2dd11b32",
   "metadata": {},
   "source": [
    "#### 16. How to add a border (filled with 0's) around an existing array? (★☆☆)"
   ]
  },
  {
   "cell_type": "code",
   "execution_count": 82,
   "id": "ab1d50a8",
   "metadata": {},
   "outputs": [
    {
     "name": "stdout",
     "output_type": "stream",
     "text": [
      "[[0. 0. 0. 0. 0. 0. 0.]\n",
      " [0. 1. 1. 1. 1. 1. 0.]\n",
      " [0. 1. 1. 1. 1. 1. 0.]\n",
      " [0. 1. 1. 1. 1. 1. 0.]\n",
      " [0. 1. 1. 1. 1. 1. 0.]\n",
      " [0. 1. 1. 1. 1. 1. 0.]\n",
      " [0. 0. 0. 0. 0. 0. 0.]]\n"
     ]
    }
   ],
   "source": [
    "arr16 = np.ones((n,n))\n",
    "arr16 = np.pad(arr16, pad_width=1, mode='constant', constant_values=0)\n",
    "print(arr16)"
   ]
  },
  {
   "cell_type": "markdown",
   "id": "a7c39246",
   "metadata": {},
   "source": [
    "#### 17. What is the result of the following expression? (★☆☆)\n",
    "```python\n",
    "0 * np.nan\n",
    "np.nan == np.nan\n",
    "np.inf > np.nan\n",
    "np.nan - np.nan\n",
    "np.nan in set([np.nan])\n",
    "0.3 == 3 * 0.1\n",
    "```"
   ]
  },
  {
   "cell_type": "code",
   "execution_count": 85,
   "id": "d5f154f3",
   "metadata": {},
   "outputs": [
    {
     "name": "stdout",
     "output_type": "stream",
     "text": [
      "nan\n",
      "False\n",
      "False\n",
      "nan\n",
      "True\n",
      "False\n"
     ]
    }
   ],
   "source": [
    "print(0 * np.nan) # i think nan (correct)\n",
    "print(np.nan == np.nan) # i think true (false)\n",
    "print(np.inf > np.nan) # i think true (false)\n",
    "print(np.nan - np.nan) # i tink nan (correct)\n",
    "print(np.nan in set([np.nan])) # i think true (true)\n",
    "print(0.3 == 3 * 0.1) # i think true (false)"
   ]
  },
  {
   "cell_type": "markdown",
   "id": "757aff7a",
   "metadata": {},
   "source": [
    "#### 18. Create a 5x5 matrix with values 1,2,3,4 just below the diagonal (★☆☆)"
   ]
  },
  {
   "cell_type": "code",
   "execution_count": 87,
   "id": "fc9309c9",
   "metadata": {},
   "outputs": [
    {
     "name": "stdout",
     "output_type": "stream",
     "text": [
      "[[0 0 0 0 0]\n",
      " [1 0 0 0 0]\n",
      " [0 2 0 0 0]\n",
      " [0 0 3 0 0]\n",
      " [0 0 0 4 0]]\n"
     ]
    }
   ],
   "source": [
    "arr18 = np.diag(np.arange(1,5), k=-1)\n",
    "print(arr18)"
   ]
  },
  {
   "cell_type": "markdown",
   "id": "ae259b07",
   "metadata": {},
   "source": [
    "#### 19. Create a 8x8 matrix and fill it with a checkerboard pattern (★☆☆)"
   ]
  },
  {
   "cell_type": "code",
   "execution_count": 94,
   "id": "ceccc277",
   "metadata": {},
   "outputs": [
    {
     "name": "stdout",
     "output_type": "stream",
     "text": [
      "[[False  True False  True False]\n",
      " [ True False  True False  True]\n",
      " [False False False False False]\n",
      " [False False False False False]\n",
      " [False False False False False]]\n"
     ]
    }
   ],
   "source": [
    "arr19 = np.fromfunction(lambda i,j: i+j%2==1, (n,n), dtype=np.int32)\n",
    "print(arr19)"
   ]
  },
  {
   "cell_type": "markdown",
   "id": "9f5d548e",
   "metadata": {},
   "source": [
    "#### 20. Consider a (6,7,8) shape array, what is the index (x,y,z) of the 100th element? (★☆☆)"
   ]
  },
  {
   "cell_type": "code",
   "execution_count": 107,
   "id": "ebf6fa3c",
   "metadata": {},
   "outputs": [
    {
     "name": "stdout",
     "output_type": "stream",
     "text": [
      "1,5,3\n",
      "(np.int64(1), np.int64(5), np.int64(3))\n"
     ]
    }
   ],
   "source": [
    "ds, d = (6,7,8), [None]*3\n",
    "for i in range(len(d)):\n",
    "    d[i], new_d = np.zeros(ds), ([1]*3)\n",
    "    new_d[i] = ds[i]\n",
    "    d[i] += np.arange(ds[i]).reshape((new_d))\n",
    "    d[i] = d[i].flatten()\n",
    "    print(f'{int(d[i][99])}', end=\",\" if i+1 != len(d) else \"\\n\")\n",
    "\n",
    "# answer(20)\n",
    "print(np.unravel_index(99,(6,7,8)))\n"
   ]
  },
  {
   "cell_type": "markdown",
   "id": "e1fe826b",
   "metadata": {},
   "source": [
    "#### 21. Create a checkerboard 8x8 matrix using the tile function (★☆☆)"
   ]
  },
  {
   "cell_type": "code",
   "execution_count": 109,
   "id": "7cbd262a",
   "metadata": {},
   "outputs": [
    {
     "name": "stdout",
     "output_type": "stream",
     "text": [
      "[[1 0 1 0 1 0 1 0]\n",
      " [0 1 0 1 0 1 0 1]\n",
      " [1 0 1 0 1 0 1 0]\n",
      " [0 1 0 1 0 1 0 1]\n",
      " [1 0 1 0 1 0 1 0]\n",
      " [0 1 0 1 0 1 0 1]\n",
      " [1 0 1 0 1 0 1 0]\n",
      " [0 1 0 1 0 1 0 1]]\n"
     ]
    }
   ],
   "source": [
    "arr21 = np.tile([[1,0],[0,1]], (4,4))\n",
    "print(arr21)"
   ]
  },
  {
   "cell_type": "markdown",
   "id": "3cc99a9e",
   "metadata": {},
   "source": [
    "#### 22. Normalize a 5x5 random matrix (★☆☆)"
   ]
  },
  {
   "cell_type": "code",
   "execution_count": 119,
   "id": "96ec3796",
   "metadata": {},
   "outputs": [
    {
     "name": "stdout",
     "output_type": "stream",
     "text": [
      "[[ 1.15514453  1.32857823 -1.65682221  0.44930442 -0.70670284]\n",
      " [-1.14305405  0.41750168 -1.04135069  0.33176786 -1.03677003]\n",
      " [ 0.42307016 -0.65200139 -0.97160599  1.90563827 -0.41889542]\n",
      " [-1.12878861  0.86798192 -0.10682484  0.01569595 -1.69166662]\n",
      " [ 1.26579881  1.22720668  0.94173491  0.57482705 -0.34976777]] 1.887379141862766e-16 1.0\n"
     ]
    }
   ],
   "source": [
    "arr22 = np.random.random((5,5)) * 20\n",
    "arr22 = (arr22 - arr22.mean()) / arr22.std()\n",
    "print(arr22, arr22.mean(), arr22.std())"
   ]
  },
  {
   "cell_type": "markdown",
   "id": "3cefb279",
   "metadata": {},
   "source": [
    "#### 23. Create a custom dtype that describes a color as four unsigned bytes (RGBA) (★☆☆)"
   ]
  },
  {
   "cell_type": "code",
   "execution_count": 123,
   "id": "06231cc7",
   "metadata": {},
   "outputs": [],
   "source": [
    "ub = np.ubyte\n",
    "dt = np.dtype([('R', ub), ('G', ub), ('B', ub), ('A', ub)])"
   ]
  },
  {
   "cell_type": "markdown",
   "id": "04177bf2",
   "metadata": {},
   "source": [
    "#### 24. Multiply a 5x3 matrix by a 3x2 matrix (real matrix product) (★☆☆)"
   ]
  },
  {
   "cell_type": "code",
   "execution_count": 126,
   "id": "25c78847",
   "metadata": {},
   "outputs": [
    {
     "name": "stdout",
     "output_type": "stream",
     "text": [
      "[[0.36842025 0.7220086 ]\n",
      " [1.36061265 0.90999561]\n",
      " [1.03579821 1.28638711]\n",
      " [0.80951446 1.07652399]\n",
      " [1.140125   0.87842345]]\n",
      "[[0.36842025 0.7220086 ]\n",
      " [1.36061265 0.90999561]\n",
      " [1.03579821 1.28638711]\n",
      " [0.80951446 1.07652399]\n",
      " [1.140125   0.87842345]]\n"
     ]
    }
   ],
   "source": [
    "arr24_1, arr24_2 = np.random.random((5,3)), np.random.random((3,2))\n",
    "print(arr24_1 @ arr24_2)\n",
    "print(np.matmul(arr24_1, arr24_2))"
   ]
  },
  {
   "cell_type": "markdown",
   "id": "14a38540",
   "metadata": {},
   "source": [
    "#### 25. Given a 1D array, negate all elements which are between 3 and 8, in place. (★☆☆)"
   ]
  },
  {
   "cell_type": "code",
   "execution_count": 139,
   "id": "85a57a73",
   "metadata": {},
   "outputs": [
    {
     "name": "stdout",
     "output_type": "stream",
     "text": [
      "[8.14312    8.59670825 1.53300445 3.01049725 6.14558722 0.05230042\n",
      " 4.15279331 6.52792573 7.17516027 8.46935797]\n",
      "[8.14312    8.59670825 1.53300445 0.         0.         0.05230042\n",
      " 0.         0.         0.         8.46935797]\n"
     ]
    }
   ],
   "source": [
    "arr25 = np.random.random(10) * 10\n",
    "print(arr25)\n",
    "arr25[(arr25 >= 3) & (arr25 <= 8)] = 0\n",
    "print(arr25)\n"
   ]
  },
  {
   "cell_type": "markdown",
   "id": "bb586fda",
   "metadata": {},
   "source": [
    "#### 26. What is the output of the following script? (★☆☆)\n",
    "```python\n",
    "# Author: Jake VanderPlas\n",
    "\n",
    "print(sum(range(5),-1))\n",
    "from numpy import *\n",
    "print(sum(range(5),-1))\n",
    "```"
   ]
  },
  {
   "cell_type": "code",
   "execution_count": 141,
   "id": "5094a699",
   "metadata": {},
   "outputs": [
    {
     "name": "stdout",
     "output_type": "stream",
     "text": [
      "9\n",
      "10\n"
     ]
    }
   ],
   "source": [
    "#i think array it self\n",
    "print(sum(range(5),-1))\n",
    "from numpy import *\n",
    "print(sum(range(5),-1))\n",
    "#funny!"
   ]
  },
  {
   "cell_type": "markdown",
   "id": "198cdc05",
   "metadata": {},
   "source": [
    "#### 27. Consider an integer vector Z, which of these expressions are legal? (★☆☆)\n",
    "```python\n",
    "Z**Z\n",
    "2 << Z >> 2\n",
    "Z <- Z\n",
    "1j*Z\n",
    "Z/1/1\n",
    "Z<Z>Z\n",
    "```"
   ]
  },
  {
   "cell_type": "code",
   "execution_count": 150,
   "id": "a4195583",
   "metadata": {},
   "outputs": [
    {
     "name": "stdout",
     "output_type": "stream",
     "text": [
      "[0.69469008 0.71042812 0.84058426]\n",
      "[False False False]\n",
      "None\n",
      "[0.+0.31769644j 0.+0.23855759j 0.+0.80622076j]\n",
      "[0.31769644 0.23855759 0.80622076]\n"
     ]
    }
   ],
   "source": [
    "# i think 2 << Z >> 2 & 1j*Z and  Z/1/1\n",
    "import numpy as np \n",
    "\n",
    "Z = np.random.random(3)\n",
    "print(Z**Z) # doable\n",
    "# print(2 << Z >> 2) #undoable\n",
    "print(print(Z <- Z)) #doable, bastard :)\n",
    "print(1j*Z) #doable\n",
    "print(Z/1/1) #doable\n",
    "# print(Z<Z>Z) #undoable"
   ]
  },
  {
   "cell_type": "markdown",
   "id": "d83bb54b",
   "metadata": {},
   "source": [
    "#### 28. What are the result of the following expressions? (★☆☆)\n",
    "```python\n",
    "np.array(0) / np.array(0)\n",
    "np.array(0) // np.array(0)\n",
    "np.array([np.nan]).astype(int).astype(float)\n",
    "```"
   ]
  },
  {
   "cell_type": "code",
   "execution_count": 154,
   "id": "277bd109",
   "metadata": {},
   "outputs": [
    {
     "name": "stdout",
     "output_type": "stream",
     "text": [
      "nan\n",
      "0\n",
      "[-9223372036854775808] [-9.22337204e+18]\n"
     ]
    },
    {
     "name": "stderr",
     "output_type": "stream",
     "text": [
      "/tmp/ipykernel_110130/3452437832.py:1: RuntimeWarning: invalid value encountered in divide\n",
      "  print(np.array(0) / np.array(0))\n",
      "/tmp/ipykernel_110130/3452437832.py:2: RuntimeWarning: divide by zero encountered in floor_divide\n",
      "  print(np.array(0) // np.array(0))\n",
      "/tmp/ipykernel_110130/3452437832.py:3: RuntimeWarning: invalid value encountered in cast\n",
      "  print(np.array([np.nan]).astype(int), np.array([np.nan]).astype(int).astype(float))\n"
     ]
    }
   ],
   "source": [
    "print(np.array(0) / np.array(0))\n",
    "print(np.array(0) // np.array(0))\n",
    "print(np.array([np.nan]).astype(int), np.array([np.nan]).astype(int).astype(float))"
   ]
  },
  {
   "cell_type": "markdown",
   "id": "415d2d18",
   "metadata": {},
   "source": [
    "#### 29. How to round away from zero a float array ? (★☆☆)"
   ]
  },
  {
   "cell_type": "code",
   "execution_count": 157,
   "id": "63df40b7",
   "metadata": {},
   "outputs": [
    {
     "name": "stdout",
     "output_type": "stream",
     "text": [
      "[[-2.26744251  3.23188806  4.7028375 ]\n",
      " [ 2.70523823  0.15329283  1.74064972]\n",
      " [ 3.19078954 -4.82477965  3.21242502]]\n",
      "[[-3.  4.  5.]\n",
      " [ 3.  1.  2.]\n",
      " [ 4. -5.  4.]]\n",
      "# Author: Charles R Harris\n",
      "\n",
      "Z = np.random.uniform(-10,+10,10)\n",
      "print(np.copysign(np.ceil(np.abs(Z)), Z))\n",
      "\n",
      "# More readable but less efficient\n",
      "print(np.where(Z>0, np.ceil(Z), np.floor(Z)))\n"
     ]
    }
   ],
   "source": [
    "arr29 = np.random.random((3,3)) * 10 - 5\n",
    "print(arr29)\n",
    "m1 = arr29 < 0\n",
    "arr29[m1] *= -1 \n",
    "arr29 = np.ceil(arr29)\n",
    "arr29[m1] *= -1\n",
    "print(arr29)\n",
    "\n"
   ]
  },
  {
   "cell_type": "markdown",
   "id": "40ddc32c",
   "metadata": {},
   "source": [
    "#### 30. How to find common values between two arrays? (★☆☆)"
   ]
  },
  {
   "cell_type": "code",
   "execution_count": 159,
   "id": "e4e221c3",
   "metadata": {},
   "outputs": [
    {
     "name": "stdout",
     "output_type": "stream",
     "text": [
      "[1]\n"
     ]
    }
   ],
   "source": [
    "arr30_1 = np.array([1,2,3])\n",
    "arr30_2 = np.array([1,4,5])\n",
    "print(np.intersect1d(arr30_1, arr30_2))"
   ]
  },
  {
   "cell_type": "markdown",
   "id": "96a2b00a",
   "metadata": {},
   "source": [
    "#### 31. How to ignore all numpy warnings (not recommended)? (★☆☆)"
   ]
  },
  {
   "cell_type": "code",
   "execution_count": 166,
   "id": "97517a73",
   "metadata": {},
   "outputs": [
    {
     "data": {
      "text/plain": [
       "{'divide': 'warn', 'over': 'warn', 'under': 'warn', 'invalid': 'warn'}"
      ]
     },
     "execution_count": 166,
     "metadata": {},
     "output_type": "execute_result"
    }
   ],
   "source": [
    "np.seterr(all='warn')"
   ]
  },
  {
   "cell_type": "markdown",
   "id": "5164e541",
   "metadata": {},
   "source": [
    "#### 32. Is the following expressions true? (★☆☆)\n",
    "```python\n",
    "np.sqrt(-1) == np.emath.sqrt(-1)\n",
    "```"
   ]
  },
  {
   "cell_type": "code",
   "execution_count": 167,
   "id": "c05aab40",
   "metadata": {},
   "outputs": [
    {
     "name": "stdout",
     "output_type": "stream",
     "text": [
      "nan 1j\n"
     ]
    },
    {
     "name": "stderr",
     "output_type": "stream",
     "text": [
      "/tmp/ipykernel_110130/113881354.py:1: RuntimeWarning: invalid value encountered in sqrt\n",
      "  np.sqrt(-1) == np.emath.sqrt(-1)\n",
      "/tmp/ipykernel_110130/113881354.py:2: RuntimeWarning: invalid value encountered in sqrt\n",
      "  print(np.sqrt(-1), np.emath.sqrt(-1))\n"
     ]
    }
   ],
   "source": [
    "np.sqrt(-1) == np.emath.sqrt(-1)\n",
    "print(np.sqrt(-1), np.emath.sqrt(-1))"
   ]
  },
  {
   "cell_type": "markdown",
   "id": "6ff7fdf8",
   "metadata": {},
   "source": [
    "#### 33. How to get the dates of yesterday, today and tomorrow? (★☆☆)"
   ]
  },
  {
   "cell_type": "code",
   "execution_count": 169,
   "id": "6156213d",
   "metadata": {},
   "outputs": [
    {
     "name": "stdout",
     "output_type": "stream",
     "text": [
      "2025-06-25 2025-06-26 2025-06-27\n"
     ]
    }
   ],
   "source": [
    "today = np.datetime64('TODAY')\n",
    "yesterday, tomorrow = today - np.timedelta64(1), today + np.timedelta64(1)\n",
    "print(yesterday, today, tomorrow)"
   ]
  },
  {
   "cell_type": "markdown",
   "id": "97dde2a7",
   "metadata": {},
   "source": [
    "#### 34. How to get all the dates corresponding to the month of July 2016? (★★☆)"
   ]
  },
  {
   "cell_type": "code",
   "execution_count": 185,
   "id": "249806a3",
   "metadata": {},
   "outputs": [
    {
     "name": "stdout",
     "output_type": "stream",
     "text": [
      "[np.datetime64('2016-07-01'), np.datetime64('2016-07-02'), np.datetime64('2016-07-03'), np.datetime64('2016-07-04'), np.datetime64('2016-07-05'), np.datetime64('2016-07-06'), np.datetime64('2016-07-07'), np.datetime64('2016-07-08'), np.datetime64('2016-07-09'), np.datetime64('2016-07-10'), np.datetime64('2016-07-11'), np.datetime64('2016-07-12'), np.datetime64('2016-07-13'), np.datetime64('2016-07-14'), np.datetime64('2016-07-15'), np.datetime64('2016-07-16'), np.datetime64('2016-07-17'), np.datetime64('2016-07-18'), np.datetime64('2016-07-19'), np.datetime64('2016-07-20'), np.datetime64('2016-07-21'), np.datetime64('2016-07-22'), np.datetime64('2016-07-23'), np.datetime64('2016-07-24'), np.datetime64('2016-07-25'), np.datetime64('2016-07-26'), np.datetime64('2016-07-27'), np.datetime64('2016-07-28'), np.datetime64('2016-07-29'), np.datetime64('2016-07-30'), np.datetime64('2016-07-31')]\n",
      "Z = np.arange('2016-07', '2016-08', dtype='datetime64[D]')\n",
      "print(Z)\n"
     ]
    }
   ],
   "source": [
    "date = np.datetime64('2016-07-01')\n",
    "dates = []\n",
    "while date.item().month == 7:\n",
    "    dates.append(date)\n",
    "    date = date + np.timedelta64(1, 'D')\n",
    "print(dates)\n",
    "\n",
    "# answer(34)\n",
    "# Z = np.arange('2016-07', '2016-08', dtype='datetime64[D]')\n"
   ]
  },
  {
   "cell_type": "markdown",
   "id": "78f4ad65",
   "metadata": {},
   "source": [
    "#### 35. How to compute ((A+B)*(-A/2)) in place (without copy)? (★★☆)"
   ]
  },
  {
   "cell_type": "code",
   "execution_count": 187,
   "id": "d9bee25c",
   "metadata": {},
   "outputs": [
    {
     "data": {
      "text/plain": [
       "array([[-0.76427706, -0.96777542, -1.00567272],\n",
       "       [-0.78901281, -1.05366277, -1.35667085],\n",
       "       [-0.44121993, -0.59443535, -0.83416312]])"
      ]
     },
     "execution_count": 187,
     "metadata": {},
     "output_type": "execute_result"
    }
   ],
   "source": [
    "A, B = np.random.random((3,3)), np.random.random((3,3))\n",
    "np.add(A,B, out=B)\n",
    "np.multiply(A, -1/2, out=A)\n",
    "np.matmul(A, B, out=A)"
   ]
  },
  {
   "cell_type": "markdown",
   "id": "1a194d91",
   "metadata": {},
   "source": [
    "#### 36. Extract the integer part of a random array of positive numbers using 4 different methods (★★☆)"
   ]
  },
  {
   "cell_type": "code",
   "execution_count": 200,
   "id": "46a4ab0a",
   "metadata": {},
   "outputs": [
    {
     "name": "stdout",
     "output_type": "stream",
     "text": [
      "[5.70928242 3.58719366 0.1480243  9.42057415 9.50691979]\n",
      "[5. 3. 0. 9. 9.]\n",
      "[5. 3. 0. 9. 9.]\n",
      "[5 3 0 9 9]\n",
      "[5. 3. 0. 9. 9.]\n",
      "Z = np.random.uniform(0,10,10)\n",
      "\n",
      "print(Z - Z%1)\n",
      "print(Z // 1)\n",
      "print(np.floor(Z))\n",
      "print(Z.astype(int))\n",
      "print(np.trunc(Z))\n"
     ]
    }
   ],
   "source": [
    "arr36 = np.random.random(5) * 10\n",
    "print(arr36)\n",
    "print(np.floor(arr36))\n",
    "print(arr36 - arr36%1)\n",
    "print(arr36.astype(int))\n",
    "print(arr36 // 1) #wow! I'm unstoppable d:\n",
    "\n"
   ]
  },
  {
   "cell_type": "markdown",
   "id": "23a9130d",
   "metadata": {},
   "source": [
    "#### 37. Create a 5x5 matrix with row values ranging from 0 to 4 (★★☆)"
   ]
  },
  {
   "cell_type": "code",
   "execution_count": 204,
   "id": "8a08a042",
   "metadata": {},
   "outputs": [
    {
     "name": "stdout",
     "output_type": "stream",
     "text": [
      "[[0. 1. 2. 3. 4.]\n",
      " [0. 1. 2. 3. 4.]\n",
      " [0. 1. 2. 3. 4.]\n",
      " [0. 1. 2. 3. 4.]\n",
      " [0. 1. 2. 3. 4.]]\n"
     ]
    }
   ],
   "source": [
    "arr37 = np.zeros((5,5)) + np.arange(5)\n",
    "print(arr37)"
   ]
  },
  {
   "cell_type": "markdown",
   "id": "e225eafa",
   "metadata": {},
   "source": [
    "#### 38. Consider a generator function that generates 10 integers and use it to build an array (★☆☆)"
   ]
  },
  {
   "cell_type": "code",
   "execution_count": 209,
   "id": "7c2acc82",
   "metadata": {},
   "outputs": [
    {
     "name": "stdout",
     "output_type": "stream",
     "text": [
      "[0 1 2 3 4 5 6 7 8 9]\n"
     ]
    }
   ],
   "source": [
    "def gen():\n",
    "    for i in range(10):\n",
    "        yield i\n",
    "arr38 = np.fromiter(gen(), dtype=int, count=-1)\n",
    "print(arr38)"
   ]
  },
  {
   "cell_type": "markdown",
   "id": "2f61a8f5",
   "metadata": {},
   "source": [
    "#### 39. Create a vector of size 10 with values ranging from 0 to 1, both excluded (★★☆)"
   ]
  },
  {
   "cell_type": "code",
   "execution_count": 215,
   "id": "ef7bc11c",
   "metadata": {},
   "outputs": [
    {
     "name": "stdout",
     "output_type": "stream",
     "text": [
      "[0.08333333 0.16666667 0.25       0.33333333 0.41666667 0.5\n",
      " 0.58333333 0.66666667 0.75       0.83333333] 10\n",
      "[0.09090909 0.18181818 0.27272727 0.36363636 0.45454545 0.54545455\n",
      " 0.63636364 0.72727273 0.81818182 0.90909091]\n"
     ]
    }
   ],
   "source": [
    "arr39 = np.arange(0, 1, 1/12)[1:-1]\n",
    "print(arr39, len(arr39))\n",
    "#answer(39)\n",
    "Z = np.linspace(0,1,11,endpoint=False)[1:]\n",
    "print(Z)"
   ]
  },
  {
   "cell_type": "markdown",
   "id": "d5ae0694",
   "metadata": {},
   "source": [
    "#### 40. Create a random vector of size 10 and sort it (★★☆)"
   ]
  },
  {
   "cell_type": "code",
   "execution_count": 217,
   "id": "0b5a407d",
   "metadata": {},
   "outputs": [
    {
     "name": "stdout",
     "output_type": "stream",
     "text": [
      "[0.27042312 0.80741566 0.91874212 0.51801968 0.54435015 0.90830089\n",
      " 0.85166062 0.99864128 0.34373811 0.22895079]\n",
      "[0.22895079 0.27042312 0.34373811 0.51801968 0.54435015 0.80741566\n",
      " 0.85166062 0.90830089 0.91874212 0.99864128]\n",
      "Z = np.random.random(10)\n",
      "Z.sort()\n",
      "print(Z)\n"
     ]
    }
   ],
   "source": [
    "arr40 = np.random.random(10)\n",
    "print(arr40)\n",
    "arr40.sort()\n",
    "print(arr40)"
   ]
  },
  {
   "cell_type": "markdown",
   "id": "1a355962",
   "metadata": {},
   "source": [
    "#### 41. How to sum a small array faster than np.sum? (★★☆)"
   ]
  },
  {
   "cell_type": "code",
   "execution_count": 222,
   "id": "70917f47",
   "metadata": {},
   "outputs": [
    {
     "name": "stdout",
     "output_type": "stream",
     "text": [
      "4950\n",
      "execution time for add.reduce: 0.002987226005643606\n",
      "execution time for np.sum: 0.007476935992599465\n"
     ]
    }
   ],
   "source": [
    "arr41 = np.arange(100)\n",
    "print(np.add.reduce(arr41))\n",
    "\n",
    "\n",
    "\n",
    "# compare time\n",
    "from timeit import Timer\n",
    "\n",
    "timer_reduce = Timer(lambda: np.add.reduce(arr41))\n",
    "timer_sum = Timer(lambda: np.sum(arr41))\n",
    "\n",
    "print(f'execution time for add.reduce: {timer_reduce.timeit(number=1000)}')\n",
    "print(f'execution time for np.sum: {timer_sum.timeit(number=1000)}')\n"
   ]
  },
  {
   "cell_type": "markdown",
   "id": "42e65d4e",
   "metadata": {},
   "source": [
    "#### 42. Consider two random arrays A and B, check if they are equal (★★☆)"
   ]
  },
  {
   "cell_type": "code",
   "execution_count": 225,
   "id": "c4ae0c00",
   "metadata": {},
   "outputs": [
    {
     "name": "stdout",
     "output_type": "stream",
     "text": [
      "False\n",
      "A = np.random.randint(0,2,5)\n",
      "B = np.random.randint(0,2,5)\n",
      "\n",
      "# Assuming identical shape of the arrays and a tolerance for the comparison of values\n",
      "equal = np.allclose(A,B)\n",
      "print(equal)\n",
      "\n",
      "# Checking both the shape and the element values, no tolerance (values have to be exactly equal)\n",
      "equal = np.array_equal(A,B)\n",
      "print(equal)\n"
     ]
    }
   ],
   "source": [
    "arr42_1 = np.random.random(10)\n",
    "arr42_2 = np.random.random(10)\n",
    "print(np.equal(arr42_1, arr42_2).all())"
   ]
  },
  {
   "cell_type": "markdown",
   "id": "37c295dd",
   "metadata": {},
   "source": [
    "#### 43. Make an array immutable (read-only) (★★☆)"
   ]
  },
  {
   "cell_type": "code",
   "execution_count": 226,
   "id": "5a2cf158",
   "metadata": {},
   "outputs": [
    {
     "ename": "ValueError",
     "evalue": "assignment destination is read-only",
     "output_type": "error",
     "traceback": [
      "\u001b[31m---------------------------------------------------------------------------\u001b[39m",
      "\u001b[31mValueError\u001b[39m                                Traceback (most recent call last)",
      "\u001b[36mCell\u001b[39m\u001b[36m \u001b[39m\u001b[32mIn[226]\u001b[39m\u001b[32m, line 3\u001b[39m\n\u001b[32m      1\u001b[39m arr43 = np.array(\u001b[38;5;28mlist\u001b[39m(\u001b[38;5;28mrange\u001b[39m(\u001b[32m10\u001b[39m)))\n\u001b[32m      2\u001b[39m arr43.flags.writeable = \u001b[38;5;28;01mFalse\u001b[39;00m \n\u001b[32m----> \u001b[39m\u001b[32m3\u001b[39m \u001b[43marr43\u001b[49m\u001b[43m[\u001b[49m\u001b[32;43m2\u001b[39;49m\u001b[43m]\u001b[49m = \u001b[32m3\u001b[39m\n",
      "\u001b[31mValueError\u001b[39m: assignment destination is read-only"
     ]
    }
   ],
   "source": [
    "arr43 = np.array(list(range(10)))\n",
    "arr43.flags.writeable = False \n",
    "arr43[2] = 3"
   ]
  },
  {
   "cell_type": "markdown",
   "id": "e92096de",
   "metadata": {},
   "source": [
    "#### 44. Consider a random 10x2 matrix representing cartesian coordinates, convert them to polar coordinates (★★☆)"
   ]
  },
  {
   "cell_type": "code",
   "execution_count": 232,
   "id": "7d4f2602",
   "metadata": {},
   "outputs": [
    {
     "name": "stdout",
     "output_type": "stream",
     "text": [
      "[[0.42474104 1.00696993]\n",
      " [0.94386274 0.20055445]\n",
      " [0.38277111 1.24964288]\n",
      " [1.06417372 0.77953612]\n",
      " [0.44672921 0.4281511 ]\n",
      " [0.96069643 1.44629069]\n",
      " [0.98681499 1.32238874]\n",
      " [0.9987177  0.4469387 ]\n",
      " [0.27453927 0.08700476]\n",
      " [0.61906835 0.80229335]]\n"
     ]
    }
   ],
   "source": [
    "arr44 = np.random.random((10, 2))\n",
    "x, y = arr44[:,0], arr44[:,1]\n",
    "\n",
    "r = np.sqrt(np.pow(x, 2) + np.pow(y, 2)).reshape((-1,1))\n",
    "teta = np.arctan2(y,x).reshape((-1,1))\n",
    "answer44 = np.hstack((r, teta))\n",
    "print(answer44)"
   ]
  },
  {
   "cell_type": "markdown",
   "id": "a71d88ea",
   "metadata": {},
   "source": [
    "#### 45. Create random vector of size 10 and replace the maximum value by 0 (★★☆)"
   ]
  },
  {
   "cell_type": "code",
   "execution_count": 236,
   "id": "1298225a",
   "metadata": {},
   "outputs": [
    {
     "name": "stdout",
     "output_type": "stream",
     "text": [
      "[0.656213   0.67466082 0.88479538 0.24983658 0.09176852 0.64050749\n",
      " 0.93934632 0.99924417 0.9507586  0.89597279]\n",
      "[0.656213   0.67466082 0.88479538 0.24983658 0.09176852 0.64050749\n",
      " 0.93934632 0.         0.9507586  0.89597279]\n"
     ]
    }
   ],
   "source": [
    "arr45 = np.random.random(10)\n",
    "print(arr45)\n",
    "arr45[np.argmax(arr45)] = 0\n",
    "print(arr45)"
   ]
  },
  {
   "cell_type": "markdown",
   "id": "261c253c",
   "metadata": {},
   "source": [
    "#### 46. Create a structured array with `x` and `y` coordinates covering the [0,1]x[0,1] area (★★☆)"
   ]
  },
  {
   "cell_type": "code",
   "execution_count": null,
   "id": "9150a4a1",
   "metadata": {},
   "outputs": [],
   "source": [
    "xy_type = np.dtype([('x', float), ('y', float)])\n",
    "arr46 = np.zeros((10, 10), dtype=xy_type)\n",
    "arr46['x'], arr46['y'] = np.meshgrid(np.linspace(0,1,10),\n",
    "                             np.linspace(0,1,10))\n"
   ]
  },
  {
   "cell_type": "markdown",
   "id": "265deebd",
   "metadata": {},
   "source": [
    "#### 47. Given two arrays, X and Y, construct the Cauchy matrix C (Cij =1/(xi - yj)) (★★☆)"
   ]
  },
  {
   "cell_type": "code",
   "execution_count": 249,
   "id": "9fad2a0d",
   "metadata": {},
   "outputs": [
    {
     "name": "stderr",
     "output_type": "stream",
     "text": [
      "/tmp/ipykernel_110130/312308729.py:7: RuntimeWarning: divide by zero encountered in scalar divide\n",
      "  arr47[i,j] = 1/(x[i] - y[j])\n"
     ]
    }
   ],
   "source": [
    "x = np.array(list(range(5)))\n",
    "y = np.array(list(range(5)))\n",
    "\n",
    "arr47 = np.zeros((len(x), len(y)))\n",
    "for i in range(len(x)):\n",
    "    for j in range(len(y)):\n",
    "        arr47[i,j] = 1/(x[i] - y[j])\n"
   ]
  },
  {
   "cell_type": "markdown",
   "id": "f9007f53",
   "metadata": {},
   "source": [
    "#### 48. Print the minimum and maximum representable values for each numpy scalar type (★★☆)"
   ]
  },
  {
   "cell_type": "code",
   "execution_count": 253,
   "id": "2a97c51a",
   "metadata": {},
   "outputs": [
    {
     "name": "stdout",
     "output_type": "stream",
     "text": [
      "-2147483648\n",
      "2147483647\n"
     ]
    }
   ],
   "source": [
    "print(np.iinfo(np.int32).min)\n",
    "print(np.iinfo(np.int32).max)\n"
   ]
  },
  {
   "cell_type": "markdown",
   "id": "5130ea82",
   "metadata": {},
   "source": [
    "#### 49. How to print all the values of an array? (★★☆)"
   ]
  },
  {
   "cell_type": "code",
   "execution_count": 263,
   "id": "4636aa7a",
   "metadata": {},
   "outputs": [
    {
     "name": "stdout",
     "output_type": "stream",
     "text": [
      "[[0.78949773 0.09442097 0.19035176 0.47233109 0.6750333  0.78709509\n",
      "  0.41480653 0.39562328 0.97006553 0.31341684]\n",
      " [0.17123118 0.20249068 0.47803717 0.84725058 0.1651884  0.48250269\n",
      "  0.6909625  0.37686717 0.90630453 0.06838414]\n",
      " [0.48109689 0.95200533 0.91331233 0.94375892 0.19270318 0.18457535\n",
      "  0.46963678 0.48904536 0.11028654 0.12378427]\n",
      " [0.4143185  0.01503331 0.04424419 0.43381799 0.93954726 0.77961152\n",
      "  0.06168566 0.14528692 0.21886605 0.64611446]\n",
      " [0.31894148 0.56903834 0.69074654 0.05510906 0.59720345 0.87432832\n",
      "  0.32871045 0.79550323 0.64712855 0.10788582]\n",
      " [0.47248469 0.03857187 0.59715932 0.22913856 0.77540065 0.52556928\n",
      "  0.81219646 0.63158644 0.82020951 0.64925651]\n",
      " [0.90313283 0.80451654 0.2629036  0.43329723 0.53454391 0.57169614\n",
      "  0.89336133 0.98051893 0.27582746 0.53238388]\n",
      " [0.94796323 0.35543617 0.37136858 0.4697139  0.97827276 0.69230913\n",
      "  0.69966237 0.47761811 0.3068783  0.01395928]\n",
      " [0.4427511  0.12346524 0.62472554 0.89516288 0.1441199  0.09256312\n",
      "  0.22416121 0.45097404 0.20294281 0.93161488]\n",
      " [0.11167667 0.89433389 0.4318358  0.81534955 0.2315864  0.69643866\n",
      "  0.93656186 0.02289755 0.42210268 0.94817235]]\n"
     ]
    }
   ],
   "source": [
    "arr49 = np.random.random((10, 10))\n",
    "print(arr49)"
   ]
  },
  {
   "cell_type": "markdown",
   "id": "56edae30",
   "metadata": {},
   "source": [
    "#### 50. How to find the closest value (to a given scalar) in a vector? (★★☆)"
   ]
  },
  {
   "cell_type": "code",
   "execution_count": 258,
   "id": "b34f3cf0",
   "metadata": {},
   "outputs": [
    {
     "name": "stdout",
     "output_type": "stream",
     "text": [
      "[6.98651033 5.0136059  4.68855151 4.98585801 3.54463135 4.02102739\n",
      " 1.66164231 8.97311073 1.60713583 5.50060948]\n",
      "4.021027388998979\n"
     ]
    }
   ],
   "source": [
    "arr50 = np.random.random(10) * 10 \n",
    "v = 4\n",
    "print(arr50)\n",
    "print(arr50[np.argmin(np.abs(arr50-v))])"
   ]
  },
  {
   "cell_type": "markdown",
   "id": "a8f3578d",
   "metadata": {},
   "source": [
    "#### 51. Create a structured array representing a position (x,y) and a color (r,g,b) (★★☆)"
   ]
  },
  {
   "cell_type": "code",
   "execution_count": 292,
   "id": "4e9c2e30",
   "metadata": {},
   "outputs": [],
   "source": [
    "position_type = np.dtype([('X', float), ('Y', int)])\n",
    "color_type = np.dtype([('R', int), ('G', float),('B', int)])\n",
    "pctype = np.dtype([('P', position_type), ('C', color_type)])"
   ]
  },
  {
   "cell_type": "markdown",
   "id": "cd41c4dc",
   "metadata": {},
   "source": [
    "#### 52. Consider a random vector with shape (100,2) representing coordinates, find point by point distances (★★☆)"
   ]
  },
  {
   "cell_type": "code",
   "execution_count": 387,
   "id": "53f15c5d",
   "metadata": {},
   "outputs": [
    {
     "name": "stdout",
     "output_type": "stream",
     "text": [
      "True\n"
     ]
    }
   ],
   "source": [
    "arr52 = np.random.random((10, 2))*10\n",
    "x, y = arr52[:,0], arr52[:,1]\n",
    "x_, y_ = np.subtract.outer(x, x) ** 2, np.subtract.outer(y, y) ** 2\n",
    "ans = np.sqrt(x_ + y_)\n",
    "\n",
    "#answer(52)\n",
    "import spicy\n",
    "D = spicy.spatial.distance.cdist(arr52,arr52)\n",
    "\n",
    "print(np.allclose(ans, np.array(D)))"
   ]
  },
  {
   "cell_type": "markdown",
   "id": "0e2990a0",
   "metadata": {},
   "source": [
    "#### 53. How to convert a float (32 bits) array into an integer (32 bits) array in place?"
   ]
  },
  {
   "cell_type": "code",
   "execution_count": 315,
   "id": "8d7e441e",
   "metadata": {},
   "outputs": [
    {
     "name": "stdout",
     "output_type": "stream",
     "text": [
      "[5.613684  4.7973714 7.910587  8.952545  1.3797135 7.2418556 7.381264\n",
      " 4.1471    8.924573  6.529097 ]\n",
      "[5 4 7 8 1 7 7 4 8 6]\n"
     ]
    }
   ],
   "source": [
    "arr53 = (np.random.random(10)*10).astype(np.float32)\n",
    "print(arr53)\n",
    "tmp = arr53.view(np.int32)\n",
    "tmp[:] = arr53\n",
    "print(tmp)"
   ]
  },
  {
   "cell_type": "markdown",
   "id": "9e3fae09",
   "metadata": {},
   "source": [
    "#### 54. How to read the following file? (★★☆)\n",
    "```\n",
    "1, 2, 3, 4, 5\n",
    "6,  ,  , 7, 8\n",
    " ,  , 9,10,11\n",
    "```"
   ]
  },
  {
   "cell_type": "code",
   "execution_count": 323,
   "id": "5ce8d677",
   "metadata": {},
   "outputs": [
    {
     "name": "stdout",
     "output_type": "stream",
     "text": [
      "[[ 1  2  3  4  5]\n",
      " [ 6 -1 -1  7  8]\n",
      " [-1 -1  9 10 11]]\n"
     ]
    }
   ],
   "source": [
    "from io import StringIO\n",
    "\n",
    "s = StringIO('''1, 2, 3, 4, 5\n",
    "\n",
    "                6,  ,  , 7, 8\n",
    "\n",
    "                 ,  , 9,10,11''')\n",
    "arr54 = np.genfromtxt(s, delimiter=\",\", dtype=np.int32)\n",
    "print(arr54)"
   ]
  },
  {
   "cell_type": "markdown",
   "id": "dc8e013a",
   "metadata": {},
   "source": [
    "#### 55. What is the equivalent of enumerate for numpy arrays? (★★☆)"
   ]
  },
  {
   "cell_type": "code",
   "execution_count": 328,
   "id": "6b46c440",
   "metadata": {},
   "outputs": [
    {
     "name": "stdout",
     "output_type": "stream",
     "text": [
      "(0, 0) 6.83606950544883\n",
      "(0, 1) 5.592619733987335\n",
      "(0, 2) 2.918617013036797\n",
      "(1, 0) 2.8462740019803725\n",
      "(1, 1) 1.5508581362160023\n",
      "(1, 2) 5.031578807826843\n",
      "(2, 0) 8.050323002361127\n",
      "(2, 1) 3.3186507580400404\n",
      "(2, 2) 9.509407367426878\n"
     ]
    }
   ],
   "source": [
    "arr55 = np.random.random((3,3))*10 \n",
    "for i,v in np.ndenumerate(arr55):\n",
    "    print(i, v)"
   ]
  },
  {
   "cell_type": "markdown",
   "id": "acdcd8d9",
   "metadata": {},
   "source": [
    "#### 56. Generate a generic 2D Gaussian-like array (★★☆)"
   ]
  },
  {
   "cell_type": "code",
   "execution_count": 416,
   "id": "c00f8b49",
   "metadata": {},
   "outputs": [],
   "source": [
    "sigma = 1\n",
    "n = 3\n",
    "x = np.linspace(-5, 5, n)\n",
    "y = np.linspace(-5, 5, n)\n",
    "X, Y = np.meshgrid(x, y)\n",
    "arr56 = np.exp(-(X**2 + Y**2) / (2 * sigma**2))"
   ]
  },
  {
   "cell_type": "markdown",
   "id": "3f0bf645",
   "metadata": {},
   "source": [
    "#### 57. How to randomly place p elements in a 2D array? (★★☆)"
   ]
  },
  {
   "cell_type": "code",
   "execution_count": 342,
   "id": "bac7ed71",
   "metadata": {},
   "outputs": [
    {
     "name": "stdout",
     "output_type": "stream",
     "text": [
      "[[0 0 0 0]\n",
      " [1 1 1 1]\n",
      " [2 2 2 2]] \n",
      " [[0 1 2 3]\n",
      " [0 1 2 3]\n",
      " [0 1 2 3]]\n",
      "[[0. 1. 0. 0.]\n",
      " [0. 0. 2. 0.]\n",
      " [0. 3. 0. 0.]]\n",
      "# Author: Divakar\n",
      "\n",
      "n = 10\n",
      "p = 3\n",
      "Z = np.zeros((n,n))\n",
      "np.put(Z, np.random.choice(range(n*n), p, replace=False),1)\n",
      "print(Z)\n"
     ]
    }
   ],
   "source": [
    "n, m = 3, 4\n",
    "arr57 = np.zeros((n,m))\n",
    "p = np.array([1,2,3])\n",
    "y, x = np.meshgrid(np.arange(m), np.arange(n))\n",
    "print(x, '\\n', y)\n",
    "flatten_indices = np.random.choice(np.arange(n*m), len(p))\n",
    "px, py = x.flatten()[flatten_indices], y.flatten()[flatten_indices]\n",
    "arr57[px, py] = p\n",
    "print(arr57)"
   ]
  },
  {
   "cell_type": "markdown",
   "id": "b9ac42fc",
   "metadata": {},
   "source": [
    "#### 58. Subtract the mean of each row of a matrix (★★☆)"
   ]
  },
  {
   "cell_type": "code",
   "execution_count": 351,
   "id": "0cac0138",
   "metadata": {},
   "outputs": [
    {
     "name": "stdout",
     "output_type": "stream",
     "text": [
      "[[1.]\n",
      " [1.]\n",
      " [1.]]\n",
      "[[0 1 2]\n",
      " [0 1 2]\n",
      " [0 1 2]]\n",
      "[[-1.  0.  1.]\n",
      " [-1.  0.  1.]\n",
      " [-1.  0.  1.]]\n"
     ]
    }
   ],
   "source": [
    "arr58 = np.tile(np.arange(3).reshape(1,3), (3,1))\n",
    "means = arr58.mean(axis=1, keepdims=True)\n",
    "print(means)\n",
    "print(arr58)\n",
    "print(arr58 - means)\n"
   ]
  },
  {
   "cell_type": "markdown",
   "id": "f2c2e314",
   "metadata": {},
   "source": [
    "#### 59. How to sort an array by the nth column? (★★☆)"
   ]
  },
  {
   "cell_type": "code",
   "execution_count": 375,
   "id": "61739197",
   "metadata": {},
   "outputs": [
    {
     "name": "stdout",
     "output_type": "stream",
     "text": [
      "[0.71358951 0.42960647 0.21620598]\n",
      "[[0.47203009 0.92637861 0.21620598]\n",
      " [0.27298232 0.35250384 0.42960647]\n",
      " [0.68833002 0.59318909 0.71358951]]\n"
     ]
    }
   ],
   "source": [
    "arr59 = np.random.random((3,3))\n",
    "print(arr59[:,2])\n",
    "print(arr59[np.argsort(arr59[:,2])])"
   ]
  },
  {
   "cell_type": "markdown",
   "id": "e8311ecb",
   "metadata": {},
   "source": [
    "#### 60. How to tell if a given 2D array has null columns? (★★☆)"
   ]
  },
  {
   "cell_type": "code",
   "execution_count": 381,
   "id": "a3fd8a79",
   "metadata": {},
   "outputs": [
    {
     "name": "stdout",
     "output_type": "stream",
     "text": [
      "True\n"
     ]
    }
   ],
   "source": [
    "arr60 = np.array([[1,np.nan], [np.nan, np.nan]])\n",
    "print(np.isnan(arr60).all(axis=0).any())"
   ]
  },
  {
   "cell_type": "markdown",
   "id": "e9617f44",
   "metadata": {},
   "source": [
    "#### 61. Find the nearest value from a given value in an array (★★☆)"
   ]
  },
  {
   "cell_type": "code",
   "execution_count": 384,
   "id": "2fb40d45",
   "metadata": {},
   "outputs": [
    {
     "name": "stdout",
     "output_type": "stream",
     "text": [
      "[2.48699784 6.88503737 8.75595143 6.11019408 5.62108136 0.45994727\n",
      " 2.39675691 1.92252179 6.18192866 0.58389669]\n",
      "2.4869978428418174\n"
     ]
    }
   ],
   "source": [
    "arr50 = np.random.random(10) * 10 \n",
    "v = 4\n",
    "print(arr50)\n",
    "print(arr50[np.argmin(np.abs(arr50-v))])"
   ]
  },
  {
   "cell_type": "markdown",
   "id": "892813ba",
   "metadata": {},
   "source": [
    "#### 62. Considering two arrays with shape (1,3) and (3,1), how to compute their sum using an iterator? (★★☆)"
   ]
  },
  {
   "cell_type": "code",
   "execution_count": 397,
   "id": "0ec3c1ee",
   "metadata": {},
   "outputs": [
    {
     "name": "stdout",
     "output_type": "stream",
     "text": [
      "[[-3 -2 -1]\n",
      " [-2 -1  0]\n",
      " [-1  0  1]]\n"
     ]
    }
   ],
   "source": [
    "import numpy as np\n",
    "\n",
    "A = np.arange(3, 6).reshape(3, 1) \n",
    "B = np.arange(-6, -3).reshape(1, 3) \n",
    "\n",
    "it = np.nditer([A, B, None]) \n",
    "for x, y, arr62 in it:\n",
    "    arr62[...] = x + y  \n",
    "\n",
    "print(it.operands[2])  \n",
    "\n"
   ]
  },
  {
   "cell_type": "markdown",
   "id": "467ff234",
   "metadata": {},
   "source": [
    "#### 63. Create an array class that has a name attribute (★★☆)"
   ]
  },
  {
   "cell_type": "code",
   "execution_count": 399,
   "id": "43d6ba35",
   "metadata": {},
   "outputs": [],
   "source": [
    "class new_array(np.ndarray):\n",
    "    def __new__(cls, array, name=\"-\"):\n",
    "        obj = np.asarray(array).view(cls)\n",
    "        obj.name = name\n",
    "        return obj\n",
    "\n",
    "    def __array_finalize__(self, obj):\n",
    "        if obj is None: return\n",
    "        super().__array_finalize__(obj)  \n",
    "        self.name = getattr(obj, 'name', \"-\")"
   ]
  },
  {
   "cell_type": "markdown",
   "id": "af15b01a",
   "metadata": {},
   "source": [
    "#### 64. Consider a given vector, how to add 1 to each element indexed by a second vector (be careful with repeated indices)? (★★★)"
   ]
  },
  {
   "cell_type": "code",
   "execution_count": 407,
   "id": "52d9315d",
   "metadata": {},
   "outputs": [
    {
     "name": "stdout",
     "output_type": "stream",
     "text": [
      "[2 3 5 7 6]\n",
      "[3 3 7 7 7]\n"
     ]
    }
   ],
   "source": [
    "A, B = np.array([2, 3, 5, 7, 6]), np.array([0, 4, 2, 2])\n",
    "print(A)\n",
    "a, c = np.unique(B, return_counts=True)\n",
    "A[a] += c\n",
    "print(A)"
   ]
  },
  {
   "cell_type": "markdown",
   "id": "62d21ba4",
   "metadata": {},
   "source": [
    "#### 65. How to accumulate elements of a vector (X) to an array (F) based on an index list (I)? (★★★)"
   ]
  },
  {
   "cell_type": "code",
   "execution_count": 414,
   "id": "56497ebc",
   "metadata": {},
   "outputs": [
    {
     "name": "stdout",
     "output_type": "stream",
     "text": [
      "[0. 7. 0. 6. 5. 0. 0. 0. 0. 3.] [0. 7. 0. 6. 5. 0. 0. 0. 0. 3.]\n",
      "True\n"
     ]
    }
   ],
   "source": [
    "X = [1,2,3,4,5,6]\n",
    "I = [1,3,9,3,4,1]\n",
    "ans = np.zeros(np.max(I)+1)\n",
    "np.add.at(ans, I, X)\n",
    "#answer(65)\n",
    "X = [1,2,3,4,5,6]\n",
    "I = [1,3,9,3,4,1]\n",
    "F = np.bincount(I,X)\n",
    "print(np.array_equal(ans, F))"
   ]
  },
  {
   "cell_type": "markdown",
   "id": "fd7e0104",
   "metadata": {},
   "source": [
    "#### 66. Considering a (w,h,3) image of (dtype=ubyte), compute the number of unique colors (★★☆)"
   ]
  },
  {
   "cell_type": "code",
   "execution_count": 427,
   "id": "1cf3edec",
   "metadata": {},
   "outputs": [
    {
     "name": "stdout",
     "output_type": "stream",
     "text": [
      "[[1. 1. 1.]]\n"
     ]
    }
   ],
   "source": [
    "b = np.ones((3,3,3))\n",
    "reshaped = b.reshape(-1, b.shape[-1])\n",
    "unique_b = np.unique(reshaped, axis=0)\n",
    "print(unique_b)"
   ]
  },
  {
   "cell_type": "markdown",
   "id": "dd70e081",
   "metadata": {},
   "source": [
    "#### 67. Considering a four dimensions array, how to get sum over the last two axis at once? (★★★)"
   ]
  },
  {
   "cell_type": "code",
   "execution_count": 430,
   "id": "e36af36e",
   "metadata": {},
   "outputs": [
    {
     "name": "stdout",
     "output_type": "stream",
     "text": [
      "[[4. 4.]\n",
      " [4. 4.]]\n"
     ]
    }
   ],
   "source": [
    "a = np.ones((2,2,2,2))\n",
    "print(a.sum(axis=(-2, -1)))"
   ]
  },
  {
   "cell_type": "markdown",
   "id": "58333fa3",
   "metadata": {},
   "source": [
    "#### 68. Considering a one-dimensional vector D, how to compute means of subsets of D using a vector S of same size describing subset  indices? (★★★)"
   ]
  },
  {
   "cell_type": "code",
   "execution_count": 436,
   "id": "acfc823e",
   "metadata": {},
   "outputs": [
    {
     "name": "stdout",
     "output_type": "stream",
     "text": [
      "Mean of elements where values are not greater than 5: 3.0\n"
     ]
    }
   ],
   "source": [
    "import numpy as np\n",
    "\n",
    "arr = np.array([1, 6, 3, 8, 5])\n",
    "masked_arr = np.ma.masked_where(arr > 5, arr)\n",
    "mean_value = masked_arr.mean()\n",
    "print(f\"Mean of elements where values are not greater than 5: {mean_value}\")"
   ]
  },
  {
   "cell_type": "markdown",
   "id": "afbf2ff8",
   "metadata": {},
   "source": [
    "#### 69. How to get the diagonal of a dot product? (★★★)"
   ]
  },
  {
   "cell_type": "code",
   "execution_count": 438,
   "id": "8b44d9cb",
   "metadata": {},
   "outputs": [
    {
     "name": "stdout",
     "output_type": "stream",
     "text": [
      "[1.70640702 0.68094315 1.4664158  0.23225932 1.73408995]\n"
     ]
    }
   ],
   "source": [
    "a,b = np.random.random((5,5)), np.random.random((5,5))\n",
    "print(np.diag(np.dot(a,b)))"
   ]
  },
  {
   "cell_type": "markdown",
   "id": "01a1aeea",
   "metadata": {},
   "source": [
    "#### 70. Consider the vector [1, 2, 3, 4, 5], how to build a new vector with 3 consecutive zeros interleaved between each value? (★★★)"
   ]
  },
  {
   "cell_type": "code",
   "execution_count": 440,
   "id": "2105434f",
   "metadata": {},
   "outputs": [
    {
     "name": "stdout",
     "output_type": "stream",
     "text": [
      "[1. 0. 0. 0. 2. 0. 0. 0. 3. 0. 0. 0. 4. 0. 0. 0. 5. 0. 0. 0.]\n"
     ]
    }
   ],
   "source": [
    "tmp = np.arange(1,6)\n",
    "arr70 = np.zeros(len(tmp) * 4)\n",
    "arr70[np.arange(0,4*len(tmp),4)] = tmp \n",
    "print(arr70)"
   ]
  },
  {
   "cell_type": "markdown",
   "id": "1da61b2c",
   "metadata": {},
   "source": [
    "#### 71. Consider an array of dimension (5,5,3), how to multiply it by an array with dimensions (5,5)? (★★★)"
   ]
  },
  {
   "cell_type": "code",
   "execution_count": 455,
   "id": "0f257760",
   "metadata": {},
   "outputs": [
    {
     "name": "stdout",
     "output_type": "stream",
     "text": [
      "[[[2. 2. 2.]\n",
      "  [2. 2. 2.]\n",
      "  [2. 2. 2.]\n",
      "  [2. 2. 2.]\n",
      "  [2. 2. 2.]]\n",
      "\n",
      " [[2. 2. 2.]\n",
      "  [2. 2. 2.]\n",
      "  [2. 2. 2.]\n",
      "  [2. 2. 2.]\n",
      "  [2. 2. 2.]]\n",
      "\n",
      " [[2. 2. 2.]\n",
      "  [2. 2. 2.]\n",
      "  [2. 2. 2.]\n",
      "  [2. 2. 2.]\n",
      "  [2. 2. 2.]]\n",
      "\n",
      " [[2. 2. 2.]\n",
      "  [2. 2. 2.]\n",
      "  [2. 2. 2.]\n",
      "  [2. 2. 2.]\n",
      "  [2. 2. 2.]]\n",
      "\n",
      " [[2. 2. 2.]\n",
      "  [2. 2. 2.]\n",
      "  [2. 2. 2.]\n",
      "  [2. 2. 2.]\n",
      "  [2. 2. 2.]]]\n"
     ]
    }
   ],
   "source": [
    "tmp1 = np.ones((5,5,3))\n",
    "tmp2 = 2*np.ones((5,5))\n",
    "print(tmp1 * tmp2.reshape((5,5,1)))"
   ]
  },
  {
   "cell_type": "markdown",
   "id": "d465a23a",
   "metadata": {},
   "source": [
    "#### 72. How to swap two rows of an array? (★★★)"
   ]
  },
  {
   "cell_type": "code",
   "execution_count": 453,
   "id": "85dbac4a",
   "metadata": {},
   "outputs": [
    {
     "name": "stdout",
     "output_type": "stream",
     "text": [
      "[[1 1]\n",
      " [2 2]]\n",
      "[[2 2]\n",
      " [1 1]]\n"
     ]
    }
   ],
   "source": [
    "a = np.tile(np.array([1,2]), (2,1)).T\n",
    "print(a)\n",
    "a[[0,1]] = a[[1,0]]\n",
    "print(a)"
   ]
  },
  {
   "cell_type": "markdown",
   "id": "64916675",
   "metadata": {},
   "source": [
    "#### 73. Consider a set of 10 triplets describing 10 triangles (with shared vertices), find the set of unique line segments composing all the  triangles (★★★)"
   ]
  },
  {
   "cell_type": "code",
   "execution_count": 478,
   "id": "22cf4ff6",
   "metadata": {},
   "outputs": [
    {
     "name": "stdout",
     "output_type": "stream",
     "text": [
      "(30, 2)\n"
     ]
    }
   ],
   "source": [
    "t = np.random.random((10, 3))\n",
    "paris = ((0,1), (0,2), (1,2))\n",
    "possible_pairs = np.vstack(tuple(np.hstack((t[:,i].reshape((-1,1)), t[:,j].reshape(-1,1))) for i,j in paris))\n",
    "possible_pairs.sort(axis=-1)\n",
    "arr73 = np.unique(possible_pairs, axis=0)\n",
    "print(arr73.shape)"
   ]
  },
  {
   "cell_type": "markdown",
   "id": "5ac69993",
   "metadata": {},
   "source": [
    "#### 74. Given a sorted array C that corresponds to a bincount, how to produce an array A such that np.bincount(A) == C? (★★★)"
   ]
  },
  {
   "cell_type": "code",
   "execution_count": 489,
   "id": "6e2b4a3b",
   "metadata": {},
   "outputs": [
    {
     "name": "stdout",
     "output_type": "stream",
     "text": [
      "[1 2 3] [0 1 1 2 2 2] [ True  True  True]\n"
     ]
    }
   ],
   "source": [
    "np.repeat(np.arange(2), [2,3])\n",
    "C = np.array([1,2,3])\n",
    "A = np.repeat(np.arange(len(C)), repeats=C)\n",
    "print(C, A, np.bincount(A) == C)"
   ]
  },
  {
   "cell_type": "markdown",
   "id": "41ae2500",
   "metadata": {},
   "source": [
    "#### 75. How to compute averages using a sliding window over an array? (★★★)"
   ]
  },
  {
   "cell_type": "code",
   "execution_count": 495,
   "id": "460cdb46",
   "metadata": {},
   "outputs": [
    {
     "name": "stdout",
     "output_type": "stream",
     "text": [
      "[1. 2. 3. 4. 5. 6. 7. 8.]\n"
     ]
    }
   ],
   "source": [
    "arr75 = np.arange(10)\n",
    "print(np.lib.stride_tricks.sliding_window_view(arr75, window_shape=3).mean(axis=-1))"
   ]
  },
  {
   "cell_type": "markdown",
   "id": "8a968a39",
   "metadata": {},
   "source": [
    "#### 76. Consider a one-dimensional array Z, build a two-dimensional array whose first row is (Z[0],Z[1],Z[2]) and each subsequent row is  shifted by 1 (last row should be (Z[-3],Z[-2],Z[-1]) (★★★)"
   ]
  },
  {
   "cell_type": "code",
   "execution_count": 500,
   "id": "5d37d9b3",
   "metadata": {},
   "outputs": [
    {
     "name": "stdout",
     "output_type": "stream",
     "text": [
      "[[ 0  1  2]\n",
      " [ 1  2  3]\n",
      " [ 2  3  4]\n",
      " [ 3  4  5]\n",
      " [ 4  5  6]\n",
      " [ 5  6  7]\n",
      " [ 6  7  8]\n",
      " [ 7  8  9]\n",
      " [ 8  9 10]\n",
      " [ 9 10 11]\n",
      " [10 11 12]\n",
      " [11 12 13]\n",
      " [12 13 14]]\n"
     ]
    }
   ],
   "source": [
    "Z = np.arange(15)\n",
    "print(np.lib.stride_tricks.sliding_window_view(Z, window_shape=3))"
   ]
  },
  {
   "cell_type": "markdown",
   "id": "d8c056da",
   "metadata": {},
   "source": [
    "#### 77. How to negate a boolean, or to change the sign of a float inplace? (★★★)"
   ]
  },
  {
   "cell_type": "code",
   "execution_count": 499,
   "id": "3a0ba740",
   "metadata": {},
   "outputs": [
    {
     "data": {
      "text/plain": [
       "array([0., 0., 0., 0., 0., 0., 0., 0., 0., 0.])"
      ]
     },
     "execution_count": 499,
     "metadata": {},
     "output_type": "execute_result"
    }
   ],
   "source": [
    "arr77 = np.random.random(10)\n",
    "np.logical_not(arr77, out=arr77)"
   ]
  },
  {
   "cell_type": "markdown",
   "id": "6a2632c8",
   "metadata": {},
   "source": [
    "#### 78. Consider 2 sets of points P0,P1 describing lines (2d) and a point p, how to compute distance from p to each line i (P0[i],P1[i])? (★★★)"
   ]
  },
  {
   "cell_type": "code",
   "execution_count": 620,
   "id": "cce12b75",
   "metadata": {},
   "outputs": [
    {
     "name": "stdout",
     "output_type": "stream",
     "text": [
      "[1.17778787 0.20315351 4.74255001 8.71118325 0.80911207 4.03467184\n",
      " 4.37627804 1.8607654  2.85592961 2.95807904]\n"
     ]
    }
   ],
   "source": [
    "def distance(P0, P1, p):\n",
    "    x0, y0 = P0[:,0], P0[:,1]\n",
    "    x2, y2 = P1[:,0], P1[:,1]\n",
    "    x, y = p[0,0], p[0,1]\n",
    "\n",
    "\n",
    "    numerator = abs((y2 - y0) * x - (x2 - x0) * y + x2 * y0 - y2 * x0)\n",
    "    denominator = np.sqrt((y2 - y0)**2 + (x2 - x0)**2)\n",
    "\n",
    "    return numerator / denominator\n",
    "\n",
    "P0 = np.random.uniform(-10,10,(10,2))\n",
    "P1 = np.random.uniform(-10,10,(10,2))\n",
    "p  = np.random.uniform(-10,10,( 1,2))\n",
    "print(distance(P0, P1, p))"
   ]
  },
  {
   "cell_type": "markdown",
   "id": "7cba6ae9",
   "metadata": {},
   "source": [
    "#### 79. Consider 2 sets of points P0,P1 describing lines (2d) and a set of points P, how to compute distance from each point j (P[j]) to each line i (P0[i],P1[i])? (★★★)"
   ]
  },
  {
   "cell_type": "code",
   "execution_count": 626,
   "id": "576c542d",
   "metadata": {},
   "outputs": [
    {
     "name": "stdout",
     "output_type": "stream",
     "text": [
      "# Author: Italmassov Kuanysh\n",
      "\n",
      "# based on distance function from previous question\n",
      "P0 = np.random.uniform(-10, 10, (10,2))\n",
      "P1 = np.random.uniform(-10,10,(10,2))\n",
      "p = np.random.uniform(-10, 10, (10,2))\n",
      "print(np.array([distance(P0,P1,p_i) for p_i in p]))\n",
      "\n",
      "# Author: Yang Wu (Broadcasting)\n",
      "def distance_points_to_lines(p: np.ndarray, p_1: np.ndarray, p_2: np.ndarray) -> np.ndarray:\n",
      "    x_0, y_0 = p.T  # Shape -> (n points, )\n",
      "    x_1, y_1 = p_1.T  # Shape -> (n lines, )\n",
      "    x_2, y_2 = p_2.T  # Shape -> (n lines, )\n",
      "\n",
      "    # Displacement vector coordinates from p_1 -> p_2\n",
      "    dx = x_2 - x_1  # Shape -> (n lines, )\n",
      "    dy = y_2 - y_1  # Shape -> (n lines, )\n",
      "\n",
      "    # The 'cross product' term\n",
      "    cross_term = x_2 * y_1 - y_2 * x_1  # Shape -> (n lines, )\n",
      "\n",
      "    # Broadcast x_0, y_0 (n points, 1) and dx, dy, cross_term (1, n lines) -> (n points, n lines)\n",
      "    numerator = np.abs(\n",
      "        dy[np.newaxis, :] * x_0[:, np.newaxis]\n",
      "        - dx[np.newaxis, :] * y_0[:, np.newaxis]\n",
      "        + cross_term[np.newaxis, :]\n",
      "    )\n",
      "    denominator = np.sqrt(dx**2 + dy**2)  # Shape -> (n lines, )\n",
      "\n",
      "    # Shape (n points, n lines) / (1, n_lines) -> (n points, n lines)\n",
      "    return numerator / denominator[np.newaxis, :]\n",
      "\n",
      "distance_points_to_lines(p, P0, P1)\n"
     ]
    }
   ],
   "source": [
    "answer(79)"
   ]
  },
  {
   "cell_type": "markdown",
   "id": "1402e9db",
   "metadata": {},
   "source": [
    "#### 80. Consider an arbitrary array, write a function that extracts a subpart with a fixed shape and centered on a given element (pad with a `fill` value when necessary) (★★★)"
   ]
  },
  {
   "cell_type": "code",
   "execution_count": 652,
   "id": "8aa89c72",
   "metadata": {},
   "outputs": [
    {
     "name": "stdout",
     "output_type": "stream",
     "text": [
      "[10  6]\n",
      "[[1. 1. 1.]\n",
      " [1. 1. 1.]\n",
      " [1. 1. 1.]\n",
      " [1. 1. 1.]\n",
      " [1. 1. 1.]\n",
      " [1. 1. 1.]\n",
      " [0. 0. 0.]]\n"
     ]
    }
   ],
   "source": [
    "n, m = 6, 6 \n",
    "arr80 = np.ones((n,m))\n",
    "subgraph_shape = np.array([7,3], dtype=int)\n",
    "center =  np.array([3,3], dtype=int) \n",
    "paded = np.pad(arr80, pad_width=((subgraph_shape[0], subgraph_shape[0]), (subgraph_shape[1], subgraph_shape[1])), mode='constant',)\n",
    "\n",
    "edited_center = center + subgraph_shape\n",
    "print(edited_center)\n",
    "x0, x1 = edited_center[0]-subgraph_shape[0]//2, edited_center[0]+subgraph_shape[0]//2+1\n",
    "y0, y1 = edited_center[1]-subgraph_shape[1]//2, edited_center[1]+subgraph_shape[1]//2+1\n",
    "print(paded[x0:x1,y0:y1])"
   ]
  },
  {
   "cell_type": "markdown",
   "id": "159a6dff",
   "metadata": {},
   "source": [
    "#### 81. Consider an array Z = [1,2,3,4,5,6,7,8,9,10,11,12,13,14], how to generate an array R = [[1,2,3,4], [2,3,4,5], [3,4,5,6], ..., [11,12,13,14]]? (★★★)"
   ]
  },
  {
   "cell_type": "code",
   "execution_count": 502,
   "id": "ce160b57",
   "metadata": {},
   "outputs": [
    {
     "name": "stdout",
     "output_type": "stream",
     "text": [
      "[[ 1  2  3  4]\n",
      " [ 2  3  4  5]\n",
      " [ 3  4  5  6]\n",
      " [ 4  5  6  7]\n",
      " [ 5  6  7  8]\n",
      " [ 6  7  8  9]\n",
      " [ 7  8  9 10]\n",
      " [ 8  9 10 11]\n",
      " [ 9 10 11 12]\n",
      " [10 11 12 13]\n",
      " [11 12 13 14]]\n"
     ]
    }
   ],
   "source": [
    "Z = np.arange(1, 15, dtype=np.uint32)\n",
    "print(np.lib.stride_tricks.sliding_window_view(Z, window_shape=4))"
   ]
  },
  {
   "cell_type": "markdown",
   "id": "9479f684",
   "metadata": {},
   "source": [
    "#### 82. Compute a matrix rank (★★★)"
   ]
  },
  {
   "cell_type": "code",
   "execution_count": 504,
   "id": "9a6e088c",
   "metadata": {},
   "outputs": [
    {
     "name": "stdout",
     "output_type": "stream",
     "text": [
      "5\n"
     ]
    }
   ],
   "source": [
    "arr82 = np.random.random((5,5))\n",
    "print(np.linalg.matrix_rank(arr82))"
   ]
  },
  {
   "cell_type": "markdown",
   "id": "5b6a81c5",
   "metadata": {},
   "source": [
    "#### 83. How to find the most frequent value in an array?"
   ]
  },
  {
   "cell_type": "code",
   "execution_count": 507,
   "id": "cf1864ba",
   "metadata": {},
   "outputs": [
    {
     "name": "stdout",
     "output_type": "stream",
     "text": [
      "2\n"
     ]
    }
   ],
   "source": [
    "arr83 = np.array([1,2,3,2,0])\n",
    "v, c = np.unique(arr83, return_counts=True)\n",
    "print(v[c.argmax()])"
   ]
  },
  {
   "cell_type": "markdown",
   "id": "8142c362",
   "metadata": {},
   "source": [
    "#### 84. Extract all the contiguous 3x3 blocks from a random 10x10 matrix (★★★)"
   ]
  },
  {
   "cell_type": "code",
   "execution_count": 513,
   "id": "18b475ed",
   "metadata": {},
   "outputs": [
    {
     "name": "stdout",
     "output_type": "stream",
     "text": [
      "(64, 3, 3)\n"
     ]
    }
   ],
   "source": [
    "arr84 = np.arange(100).reshape((10, 10))\n",
    "print(np.lib.stride_tricks.sliding_window_view(arr84, window_shape=(3,3)).reshape((-1,3,3)).shape)"
   ]
  },
  {
   "cell_type": "markdown",
   "id": "6870a477",
   "metadata": {},
   "source": [
    "#### 85. Create a 2D array subclass such that Z[i,j] == Z[j,i] (★★★)"
   ]
  },
  {
   "cell_type": "code",
   "execution_count": null,
   "id": "13de2582",
   "metadata": {},
   "outputs": [],
   "source": []
  },
  {
   "cell_type": "markdown",
   "id": "502a6bb6",
   "metadata": {},
   "source": [
    "#### 86. Consider a set of p matrices with shape (n,n) and a set of p vectors with shape (n,1). How to compute the sum of of the p matrix products at once? (result has shape (n,1)) (★★★)"
   ]
  },
  {
   "cell_type": "code",
   "execution_count": null,
   "id": "5f575c8e",
   "metadata": {},
   "outputs": [],
   "source": []
  },
  {
   "cell_type": "markdown",
   "id": "b974e01e",
   "metadata": {},
   "source": [
    "#### 87. Consider a 16x16 array, how to get the block-sum (block size is 4x4)? (★★★)"
   ]
  },
  {
   "cell_type": "code",
   "execution_count": 519,
   "id": "6e691289",
   "metadata": {},
   "outputs": [
    {
     "name": "stdout",
     "output_type": "stream",
     "text": [
      "[[16 16 16 16 16]\n",
      " [16 16 16 16 16]\n",
      " [16 16 16 16 16]\n",
      " [16 16 16 16 16]\n",
      " [16 16 16 16 16]]\n"
     ]
    }
   ],
   "source": [
    "arr84 = np.ones(64).reshape((8, 8)).astype(int)\n",
    "print(np.lib.stride_tricks.sliding_window_view(arr84, window_shape=(4,4)).sum(axis=(-2,-1)))"
   ]
  },
  {
   "cell_type": "markdown",
   "id": "0b8c10c7",
   "metadata": {},
   "source": [
    "#### 88. How to implement the Game of Life using numpy arrays? (★★★)"
   ]
  },
  {
   "cell_type": "code",
   "execution_count": null,
   "id": "6d72ccd4",
   "metadata": {},
   "outputs": [],
   "source": [
    "import numpy as np \n",
    "import matplotlib.pyplot as plt\n",
    "from matplotlib.animation import FuncAnimation \n",
    "\n",
    "n, m = 100, 100\n",
    "world = np.random.randint(0, 2, (n, m))\n",
    "\n",
    "fig, ax = plt.subplots()\n",
    "image = ax.imshow(world, cmap='gray')\n",
    "\n",
    "def get_number_of_live_neighbors(world: np.ndarray):\n",
    "    x_diffs, y_diffs = np.meshgrid(np.arange(-1, 2), np.arange(-1, 2))\n",
    "    x_diffs, y_diffs = x_diffs.flatten(), y_diffs.flatten()\n",
    "\n",
    "    shifted_worlds = []\n",
    "    for xdiff, ydiff in zip(x_diffs, y_diffs):\n",
    "        shifted_worlds.append(np.roll(np.roll(world, shift=ydiff, axis=0), shift=xdiff, axis=1))\n",
    "    number_of_live_neighbors = sum(shifted_worlds)\n",
    "    return number_of_live_neighbors - world"
   ]
  },
  {
   "cell_type": "code",
   "execution_count": null,
   "id": "cd02f7f3",
   "metadata": {},
   "outputs": [],
   "source": [
    "\n",
    "def init():\n",
    "    ax.set_xlim(0, m)\n",
    "    ax.set_ylim(0, n)\n",
    "    ax.set_axis_off()\n",
    "    return [image]\n",
    "    \n",
    "\n",
    "\n",
    "def next_frame(frame):\n",
    "    global world \n",
    "    number_of_live_neighbors = get_number_of_live_neighbors(world) \n",
    "    survive_condition = ((world == 1) & ((2 <= number_of_live_neighbors) & (number_of_live_neighbors <= 3))) \n",
    "    birth_condition = ((world == 0) & (number_of_live_neighbors == 3)) \n",
    "    new_world = (survive_condition | birth_condition).astype(world.dtype)\n",
    "    # print(world, '\\n', number_of_live_neighbors,'\\n', survive_condition,'\\n', birth_condition, '\\n',new_world)\n",
    "    world = new_world\n",
    "    image.set_data(world)\n",
    "    return [image]\n",
    "\n",
    "def game_or_life():\n",
    "    ani = FuncAnimation(fig, next_frame, frames=100, init_func=init, blit=True, interval=200)\n",
    "    plt.show()\n",
    "\n",
    "\n",
    "if __name__ == '__main__':\n",
    "    game_or_life()"
   ]
  },
  {
   "cell_type": "markdown",
   "id": "e3f82541",
   "metadata": {},
   "source": [
    "#### 89. How to get the n largest values of an array (★★★)"
   ]
  },
  {
   "cell_type": "code",
   "execution_count": 522,
   "id": "4fbd0146",
   "metadata": {},
   "outputs": [
    {
     "name": "stdout",
     "output_type": "stream",
     "text": [
      "[6 7 8 9]\n"
     ]
    }
   ],
   "source": [
    "arr89 = np.arange(10)\n",
    "print(arr89[np.argsort(arr89)[-4:]])"
   ]
  },
  {
   "cell_type": "markdown",
   "id": "a7539391",
   "metadata": {},
   "source": [
    "#### 90. Given an arbitrary number of vectors, build the cartesian product (every combination of every item) (★★★)"
   ]
  },
  {
   "cell_type": "code",
   "execution_count": 616,
   "id": "c6981e30",
   "metadata": {},
   "outputs": [
    {
     "name": "stdout",
     "output_type": "stream",
     "text": [
      "[[0 0 0]\n",
      " [0 0 1]\n",
      " [0 0 2]\n",
      " [1 0 0]\n",
      " [1 0 1]\n",
      " [1 0 2]\n",
      " [2 0 0]\n",
      " [2 0 1]\n",
      " [2 0 2]\n",
      " [0 1 0]\n",
      " [0 1 1]\n",
      " [0 1 2]\n",
      " [1 1 0]\n",
      " [1 1 1]\n",
      " [1 1 2]\n",
      " [2 1 0]\n",
      " [2 1 1]\n",
      " [2 1 2]\n",
      " [0 2 0]\n",
      " [0 2 1]\n",
      " [0 2 2]\n",
      " [1 2 0]\n",
      " [1 2 1]\n",
      " [1 2 2]\n",
      " [2 2 0]\n",
      " [2 2 1]\n",
      " [2 2 2]]\n"
     ]
    }
   ],
   "source": [
    "vs = [np.arange(3), np.arange(3), np.arange(3)]\n",
    "v_indices = np.meshgrid(*vs)\n",
    "v_indices = tuple(map(lambda i: i.flatten().reshape((-1,1)), v_indices))\n",
    "print(np.hstack(v_indices))"
   ]
  },
  {
   "cell_type": "markdown",
   "id": "faf28eb3",
   "metadata": {},
   "source": [
    "#### 91. How to create a record array from a regular array? (★★★)"
   ]
  },
  {
   "cell_type": "code",
   "execution_count": null,
   "id": "bf3c36e8",
   "metadata": {},
   "outputs": [
    {
     "name": "stdout",
     "output_type": "stream",
     "text": [
      "[('Alice', 25, 5.5) ('Bob', 30, 6. ) ('Charlie', 35, 5.9)]\n"
     ]
    }
   ],
   "source": [
    "dtype = [('name', 'U10'), ('age', 'i4'), ('height', 'f4')]\n",
    "arr91 = np.recarray(3, dtype=dtype)\n",
    "arr91['name'] = ['Alice', 'Bob', 'Charlie']\n",
    "arr91['age'] = [25, 30, 35]\n",
    "arr91['height'] = [5.5, 6.0, 5.9]\n",
    "print(arr91)"
   ]
  },
  {
   "cell_type": "markdown",
   "id": "bd45d52b",
   "metadata": {},
   "source": [
    "#### 92. Consider a large vector Z, compute Z to the power of 3 using 3 different methods (★★★)"
   ]
  },
  {
   "cell_type": "code",
   "execution_count": 527,
   "id": "57add736",
   "metadata": {},
   "outputs": [
    {
     "name": "stdout",
     "output_type": "stream",
     "text": [
      "841 μs ± 4.89 μs per loop (mean ± std. dev. of 7 runs, 1,000 loops each)\n",
      "88.2 μs ± 9.02 μs per loop (mean ± std. dev. of 7 runs, 10,000 loops each)\n",
      "48.1 μs ± 2.05 μs per loop (mean ± std. dev. of 7 runs, 10,000 loops each)\n"
     ]
    }
   ],
   "source": [
    "arr92 = np.random.rand(int(1e5))\n",
    "%timeit np.power(arr92,3)\n",
    "%timeit arr92*arr92*arr92\n",
    "%timeit np.einsum('i,i,i->i', arr92, arr92, arr92)"
   ]
  },
  {
   "cell_type": "markdown",
   "id": "6403bb1e",
   "metadata": {},
   "source": [
    "#### 93. Consider two arrays A and B of shape (8,3) and (2,2). How to find rows of A that contain elements of each row of B regardless of the order of the elements in B? (★★★)"
   ]
  },
  {
   "cell_type": "code",
   "execution_count": 598,
   "id": "5e99e376",
   "metadata": {},
   "outputs": [
    {
     "name": "stdout",
     "output_type": "stream",
     "text": [
      "[[3 3 1]\n",
      " [3 2 1]\n",
      " [0 2 1]\n",
      " [1 2 2]\n",
      " [4 3 1]\n",
      " [0 4 0]\n",
      " [2 0 1]\n",
      " [3 1 2]]\n",
      "\n",
      "[[4 0]\n",
      " [0 4]]\n"
     ]
    },
    {
     "data": {
      "text/plain": [
       "array([False, False,  True, False,  True,  True,  True, False])"
      ]
     },
     "execution_count": 598,
     "metadata": {},
     "output_type": "execute_result"
    }
   ],
   "source": [
    "A = np.random.randint(0,5,(8,3))\n",
    "B = np.random.randint(0,5,(2,2))\n",
    "print(A)\n",
    "print()\n",
    "print(B)\n",
    "np.logical_not(np.subtract.outer(A, B).all(axis=-1)).any(axis=-2).all(axis=-1)"
   ]
  },
  {
   "cell_type": "markdown",
   "id": "2b1a4d2d",
   "metadata": {},
   "source": [
    "#### 94. Considering a 10x3 matrix, extract rows with unequal values (e.g. [2,2,3]) (★★★)"
   ]
  },
  {
   "cell_type": "code",
   "execution_count": 533,
   "id": "9d12a8cd",
   "metadata": {},
   "outputs": [
    {
     "name": "stdout",
     "output_type": "stream",
     "text": [
      "[ True False False]\n"
     ]
    }
   ],
   "source": [
    "arr94 = np.array([[1,1,1], [1,2,3], [1,2,1]])\n",
    "maxs = np.max(arr94, axis=-1, keepdims=True)\n",
    "arr94 -= maxs\n",
    "print(~arr94.any(axis=-1))"
   ]
  },
  {
   "cell_type": "markdown",
   "id": "523fbb20",
   "metadata": {},
   "source": [
    "#### 95. Convert a vector of ints into a matrix binary representation (★★★)"
   ]
  },
  {
   "cell_type": "code",
   "execution_count": 558,
   "id": "b17c2ce8",
   "metadata": {},
   "outputs": [
    {
     "name": "stdout",
     "output_type": "stream",
     "text": [
      "[[0 0 0 0 0 0 0 0]\n",
      " [0 0 0 0 0 0 0 1]\n",
      " [0 0 0 0 0 0 1 0]\n",
      " [0 0 0 0 0 0 1 1]\n",
      " [0 0 0 0 0 1 0 0]\n",
      " [0 0 0 0 0 1 0 1]\n",
      " [0 0 0 0 0 1 1 0]\n",
      " [0 0 0 0 0 1 1 1]\n",
      " [0 0 0 0 1 0 0 0]\n",
      " [0 0 0 0 1 0 0 1]]\n"
     ]
    }
   ],
   "source": [
    "arr95 = np.arange(10, dtype=np.uint8)\n",
    "print(np.unpackbits(arr95).reshape((-1,8)))"
   ]
  },
  {
   "cell_type": "markdown",
   "id": "3eb5ef69",
   "metadata": {},
   "source": [
    "#### 96. Given a two dimensional array, how to extract unique rows? (★★★)"
   ]
  },
  {
   "cell_type": "code",
   "execution_count": 538,
   "id": "092c2c20",
   "metadata": {},
   "outputs": [
    {
     "name": "stdout",
     "output_type": "stream",
     "text": [
      "[[1 2 1]\n",
      " [1 2 3]]\n"
     ]
    }
   ],
   "source": [
    "arr96 = np.array([[1,1,1], [1,2,3], [1,2,1], [1,1,1]])\n",
    "v,c = np.unique(arr96, axis=0, return_counts=True)\n",
    "print(v[c==1])"
   ]
  },
  {
   "cell_type": "markdown",
   "id": "c0e13fe1",
   "metadata": {},
   "source": [
    "#### 97. Considering 2 vectors A & B, write the einsum equivalent of inner, outer, sum, and mul function (★★★)"
   ]
  },
  {
   "cell_type": "code",
   "execution_count": 565,
   "id": "b7b697cd",
   "metadata": {},
   "outputs": [
    {
     "name": "stdout",
     "output_type": "stream",
     "text": [
      "a:[0 1 2 3 4], b:[0 1 2 3 4]\n",
      "inner:30\n",
      "outer:[[ 0  0  0  0  0]\n",
      " [ 0  1  2  3  4]\n",
      " [ 0  2  4  6  8]\n",
      " [ 0  3  6  9 12]\n",
      " [ 0  4  8 12 16]]\n",
      "sum:10\n",
      "mul:[ 0  1  4  9 16]\n"
     ]
    }
   ],
   "source": [
    "a, b = np.arange(5), np.arange(5)\n",
    "print(f'a:{a}, b:{b}')\n",
    "print(f'inner:{np.einsum('i,i->', a, b)}')\n",
    "print(f'outer:{np.einsum('i,j->ij', a, b)}')\n",
    "print(f'sum:{np.einsum('i->', a)}')\n",
    "print(f'mul:{np.einsum('i,i->i', a, b)}')"
   ]
  },
  {
   "cell_type": "markdown",
   "id": "cc071dbe",
   "metadata": {},
   "source": [
    "#### 98. Considering a path described by two vectors (X,Y), how to sample it using equidistant samples (★★★)?"
   ]
  },
  {
   "cell_type": "code",
   "execution_count": null,
   "id": "fec9fe86",
   "metadata": {},
   "outputs": [],
   "source": []
  },
  {
   "cell_type": "markdown",
   "id": "972f9dc3",
   "metadata": {},
   "source": [
    "#### 99. Given an integer n and a 2D array X, select from X the rows which can be interpreted as draws from a multinomial distribution with n degrees, i.e., the rows which only contain integers and which sum to n. (★★★)"
   ]
  },
  {
   "cell_type": "code",
   "execution_count": null,
   "id": "5b284c86",
   "metadata": {},
   "outputs": [],
   "source": []
  },
  {
   "cell_type": "markdown",
   "id": "afad9d6e",
   "metadata": {},
   "source": [
    "#### 100. Compute bootstrapped 95% confidence intervals for the mean of a 1D array X (i.e., resample the elements of an array with replacement N times, compute the mean of each sample, and then compute percentiles over the means). (★★★)"
   ]
  },
  {
   "cell_type": "code",
   "execution_count": null,
   "id": "f1885c64",
   "metadata": {},
   "outputs": [],
   "source": []
  }
 ],
 "metadata": {
  "kernelspec": {
   "display_name": ".venv",
   "language": "python",
   "name": "python3"
  },
  "language_info": {
   "codemirror_mode": {
    "name": "ipython",
    "version": 3
   },
   "file_extension": ".py",
   "mimetype": "text/x-python",
   "name": "python",
   "nbconvert_exporter": "python",
   "pygments_lexer": "ipython3",
   "version": "3.13.5"
  }
 },
 "nbformat": 4,
 "nbformat_minor": 5
}
